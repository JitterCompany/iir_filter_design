{
 "cells": [
  {
   "cell_type": "code",
   "execution_count": 1,
   "id": "measured-development",
   "metadata": {},
   "outputs": [],
   "source": [
    "from scipy import signal\n",
    "import numpy as np\n",
    "import matplotlib.pyplot as plt\n",
    "\n",
    "\n",
    "plt.rcParams['figure.figsize'] = (20, 8)\n",
    "plt.rcParams['axes.grid'] = True\n",
    "                                  \n",
    "                                  \n",
    "from dsp import simplify_biquad_filters\n",
    "import dsp"
   ]
  },
  {
   "cell_type": "code",
   "execution_count": 2,
   "id": "nominated-corps",
   "metadata": {},
   "outputs": [],
   "source": [
    "filt = signal.iirfilter(6, 100, btype='low',\n",
    "                       analog=False, rs=60, rp=0.01,\n",
    "                        ftype='ellip', fs=1000,output='sos')\n",
    "c = simplify_biquad_filters(filt)"
   ]
  },
  {
   "cell_type": "code",
   "execution_count": 3,
   "id": "surprised-witch",
   "metadata": {},
   "outputs": [],
   "source": [
    "w = np.arange(0, np.pi, 0.1)"
   ]
  },
  {
   "cell_type": "code",
   "execution_count": 52,
   "id": "mexican-retail",
   "metadata": {},
   "outputs": [
    {
     "data": {
      "text/plain": [
       "array([ 4.97805926,  5.05933728,  5.29153028,  5.69555039,  6.42182269,\n",
       "        7.72704007, 10.57205743, 18.53834765,  9.07069522,  4.60710163,\n",
       "        3.01667754,  2.21471383,  1.73296316,  1.41397369,  1.18917499,\n",
       "        1.0236987 ,  0.89791442,  0.79993852,  0.72217197,  0.65954256,\n",
       "        0.60854634,  0.56669419,  0.53217738,  0.50365742,  0.48012979,\n",
       "        0.46083321,  0.44518781,  0.43275239,  0.4231945 ,  0.41626947,\n",
       "        0.41180585,  0.40969572])"
      ]
     },
     "execution_count": 52,
     "metadata": {},
     "output_type": "execute_result"
    }
   ],
   "source": [
    "H0 = c[-1]\n",
    "\n",
    "J = len(c) // 4 # num stages\n",
    "group_delay = 0\n",
    "for i in range(0, J*4, 4):\n",
    "    \n",
    "    a0, a1, b0, b1 = c[i:i+4]\n",
    "    \n",
    "    alpha_n = 1 - a0**2 + a1*(1 - a0) * np.cos(w)\n",
    "    beta_n = a0**2 + a1**2 + 1 + 2*a0*1*(2*np.cos(w)**2 - 1) + 2*a1*(a0 + 1)*np.cos(w)\n",
    "    alpha_d = 1 - b0**2 + b1*(1 - b0)*np.cos(w)\n",
    "    beta_d =  b0**2 + b1**2 + 1 + 2*b0*1*(2*np.cos(w)**2 - 1) + 2*b1*(b0 + 1)*np.cos(w)\n",
    "\n",
    "    group_delay += -alpha_n/beta_n + alpha_d/beta_d\n",
    "\n",
    "group_delay\n",
    "\n",
    "    "
   ]
  },
  {
   "cell_type": "code",
   "execution_count": 53,
   "id": "annual-petroleum",
   "metadata": {},
   "outputs": [
    {
     "data": {
      "text/plain": [
       "[<matplotlib.lines.Line2D at 0x130a01880>]"
      ]
     },
     "execution_count": 53,
     "metadata": {},
     "output_type": "execute_result"
    },
    {
     "data": {
      "image/png": "[encoded data removed]",
      "text/plain": [
       "<Figure size 1440x576 with 1 Axes>"
      ]
     },
     "metadata": {
      "needs_background": "light"
     },
     "output_type": "display_data"
    }
   ],
   "source": [
    "plt.plot(group_delay)"
   ]
  },
  {
   "cell_type": "code",
   "execution_count": 54,
   "id": "planned-whale",
   "metadata": {},
   "outputs": [],
   "source": [
    "def group_delay(c, w):\n",
    "    \"\"\"\n",
    "    Calculates the group delay for filter with coefficients c for the given frequencies in w\n",
    "    \n",
    "    parameters\n",
    "    ----------\n",
    "    \n",
    "    c: ndarray\n",
    "        list of all coefficients of all seconds order stages:\n",
    "        [a_01 a_11 b_01 b_11 ... b_0N b_1N H0]\n",
    "\n",
    "    w: ndarray\n",
    "        frequency bins in the range [0, π] to evaluate the group delay on\n",
    "\n",
    "    \"\"\"\n",
    "    \n",
    "    J = len(c) // 4 # num stages: we don't use H0 = c[-1]\n",
    "    group_delay = 0\n",
    "    for i in range(0, J*4, 4):\n",
    "\n",
    "        a0, a1, b0, b1 = c[i:i+4]\n",
    "\n",
    "        alpha_n = 1 - a0**2 + a1*(1 - a0) * np.cos(w)\n",
    "        beta_n = a0**2 + a1**2 + 1 + 2*a0*1*(2*np.cos(w)**2 - 1) + 2*a1*(a0 + 1)*np.cos(w)\n",
    "        alpha_d = 1 - b0**2 + b1*(1 - b0)*np.cos(w)\n",
    "        beta_d =  b0**2 + b1**2 + 1 + 2*b0*1*(2*np.cos(w)**2 - 1) + 2*b1*(b0 + 1)*np.cos(w)\n",
    "\n",
    "        group_delay += -alpha_n/beta_n + alpha_d/beta_d\n",
    "\n",
    "    return group_delay"
   ]
  },
  {
   "cell_type": "code",
   "execution_count": 51,
   "id": "amended-adrian",
   "metadata": {},
   "outputs": [
    {
     "data": {
      "text/plain": [
       "array([ 4.97805926,  5.05933728,  5.29153028,  5.69555039,  6.42182269,\n",
       "        7.72704007, 10.57205743, 18.53834765,  9.07069522,  4.60710163,\n",
       "        3.01667754,  2.21471383,  1.73296316,  1.41397369,  1.18917499,\n",
       "        1.0236987 ,  0.89791442,  0.79993852,  0.72217197,  0.65954256,\n",
       "        0.60854634,  0.56669419,  0.53217738,  0.50365742,  0.48012979,\n",
       "        0.46083321,  0.44518781,  0.43275239,  0.4231945 ,  0.41626947,\n",
       "        0.41180585,  0.40969572])"
      ]
     },
     "execution_count": 51,
     "metadata": {},
     "output_type": "execute_result"
    }
   ],
   "source": [
    "group_delay(c, w)"
   ]
  },
  {
   "cell_type": "code",
   "execution_count": 8,
   "id": "american-tradition",
   "metadata": {},
   "outputs": [
    {
     "data": {
      "text/plain": [
       "array([3.39051947, 3.38086765, 3.31226017, 3.11385356, 2.77490841,\n",
       "       2.36354763, 1.96137687, 1.61436095, 1.33352039, 1.11242372,\n",
       "       0.93965638, 0.80426004, 0.69731624, 0.61201376, 0.54327568,\n",
       "       0.48734148, 0.4414185 , 0.40341845, 0.37176587, 0.34526081,\n",
       "       0.32298083, 0.30421061, 0.28839135, 0.27508378, 0.26394126,\n",
       "       0.25468979, 0.24711327, 0.24104245, 0.2363468 , 0.23292844,\n",
       "       0.23071786, 0.22967085])"
      ]
     },
     "execution_count": 8,
     "metadata": {},
     "output_type": "execute_result"
    }
   ],
   "source": [
    "dsp.group_delay(c, w)"
   ]
  },
  {
   "cell_type": "code",
   "execution_count": 55,
   "id": "hearing-building",
   "metadata": {},
   "outputs": [],
   "source": [
    "def group_delay_deviation(x, w):\n",
    "    \"\"\"\n",
    "    Calculates the group delay for filter with coefficients c for the given frequencies in w\n",
    "    \n",
    "    parameters\n",
    "    ----------\n",
    "    \n",
    "    x: ndarray\n",
    "        list of all coefficients of all seconds order stages and tau, the group delay optimization variable:\n",
    "        [c tau]\n",
    "\n",
    "    w: ndarray\n",
    "        frequency bins in the range [0, π] to evaluate the group delay on\n",
    "\n",
    "    \"\"\"\n",
    "    \n",
    "    J = (len(x) - 2) // 4 # num stages: we don't use H0 = c[-1]\n",
    "    tau = x[-1]\n",
    "    group_delay = 0\n",
    "    for i in range(0, J*4, 4):\n",
    "\n",
    "        a0, a1, b0, b1 = x[i:i+4]\n",
    "\n",
    "        alpha_n = 1 - a0**2 + a1*(1 - a0) * np.cos(w)\n",
    "        beta_n = a0**2 + a1**2 + 1 + 2*a0*1*(2*np.cos(w)**2 - 1) + 2*a1*(a0 + 1)*np.cos(w)\n",
    "        alpha_d = 1 - b0**2 + b1*(1 - b0)*np.cos(w)\n",
    "        beta_d =  b0**2 + b1**2 + 1 + 2*b0*1*(2*np.cos(w)**2 - 1) + 2*b1*(b0 + 1)*np.cos(w)\n",
    "\n",
    "        group_delay += -alpha_n/beta_n + alpha_d/beta_d\n",
    "\n",
    "    return group_delay - tau"
   ]
  },
  {
   "cell_type": "code",
   "execution_count": 56,
   "id": "spoken-france",
   "metadata": {},
   "outputs": [
    {
     "data": {
      "text/plain": [
       "array([ 3.97805926,  4.05933728,  4.29153028,  4.69555039,  5.42182269,\n",
       "        6.72704007,  9.57205743, 17.53834765,  8.07069522,  3.60710163,\n",
       "        2.01667754,  1.21471383,  0.73296316,  0.41397369,  0.18917499,\n",
       "        0.0236987 , -0.10208558, -0.20006148, -0.27782803, -0.34045744,\n",
       "       -0.39145366, -0.43330581, -0.46782262, -0.49634258, -0.51987021,\n",
       "       -0.53916679, -0.55481219, -0.56724761, -0.5768055 , -0.58373053,\n",
       "       -0.58819415, -0.59030428])"
      ]
     },
     "execution_count": 56,
     "metadata": {},
     "output_type": "execute_result"
    }
   ],
   "source": [
    "group_delay_deviation(np.r_[c, 1], w)"
   ]
  },
  {
   "cell_type": "markdown",
   "id": "limited-myrtle",
   "metadata": {},
   "source": [
    "# Group delay optimization cost function\n",
    "\n",
    "We want to minimize the group delay deviation "
   ]
  },
  {
   "cell_type": "code",
   "execution_count": 11,
   "id": "polished-truck",
   "metadata": {},
   "outputs": [],
   "source": [
    "import gradients"
   ]
  },
  {
   "cell_type": "code",
   "execution_count": 23,
   "id": "tutorial-madagascar",
   "metadata": {},
   "outputs": [],
   "source": [
    "gd = gradients._group_delay(c, w)\n",
    "tau = np.mean(gd)\n",
    "x = np.r_[c, tau]\n",
    "grad_eg = gradients.group_delay_deviation_gradient(x, w)"
   ]
  },
  {
   "cell_type": "code",
   "execution_count": 25,
   "id": "described-jacksonville",
   "metadata": {},
   "outputs": [
    {
     "data": {
      "text/plain": [
       "(32,)"
      ]
     },
     "execution_count": 25,
     "metadata": {},
     "output_type": "execute_result"
    }
   ],
   "source": [
    "gd.shape"
   ]
  },
  {
   "cell_type": "code",
   "execution_count": 14,
   "id": "utility-sociology",
   "metadata": {},
   "outputs": [
    {
     "data": {
      "text/plain": [
       "(32, 14)"
      ]
     },
     "execution_count": 14,
     "metadata": {},
     "output_type": "execute_result"
    }
   ],
   "source": [
    "grad_eg.shape"
   ]
  },
  {
   "cell_type": "code",
   "execution_count": 19,
   "id": "improved-committee",
   "metadata": {},
   "outputs": [
    {
     "name": "stdout",
     "output_type": "stream",
     "text": [
      "[[ 3.0751354e-01  0.0000000e+00 -2.4751348e+01 -1.9113882e+01\n",
      "   0.0000000e+00  0.0000000e+00  0.0000000e+00  0.0000000e+00\n",
      "   0.0000000e+00  0.0000000e+00  0.0000000e+00  0.0000000e+00\n",
      "   0.0000000e+00 -1.0000000e+00]\n",
      " [ 3.0881688e-01  0.0000000e+00 -2.1076681e+01 -1.6965374e+01\n",
      "   0.0000000e+00  0.0000000e+00  0.0000000e+00  0.0000000e+00\n",
      "   0.0000000e+00  0.0000000e+00  0.0000000e+00  0.0000000e+00\n",
      "   0.0000000e+00 -1.0000000e+00]\n",
      " [ 3.1277573e-01  0.0000000e+00 -1.1294748e+01 -1.0946825e+01\n",
      "   0.0000000e+00  0.0000000e+00  0.0000000e+00  0.0000000e+00\n",
      "   0.0000000e+00  0.0000000e+00  0.0000000e+00  0.0000000e+00\n",
      "   0.0000000e+00 -1.0000000e+00]\n",
      " [ 3.1953999e-01  0.0000000e+00  2.8756142e-01 -3.1503191e+00\n",
      "   0.0000000e+00  0.0000000e+00  0.0000000e+00  0.0000000e+00\n",
      "   0.0000000e+00  0.0000000e+00  0.0000000e+00  0.0000000e+00\n",
      "   0.0000000e+00 -1.0000000e+00]\n",
      " [ 3.2937402e-01  0.0000000e+00  8.2813873e+00  3.0706568e+00\n",
      "   0.0000000e+00  0.0000000e+00  0.0000000e+00  0.0000000e+00\n",
      "   0.0000000e+00  0.0000000e+00  0.0000000e+00  0.0000000e+00\n",
      "   0.0000000e+00 -1.0000000e+00]\n",
      " [ 3.4267938e-01  0.0000000e+00  1.0849000e+01  5.9945779e+00\n",
      "   0.0000000e+00  0.0000000e+00  0.0000000e+00  0.0000000e+00\n",
      "   0.0000000e+00  0.0000000e+00  0.0000000e+00  0.0000000e+00\n",
      "   0.0000000e+00 -1.0000000e+00]\n",
      " [ 3.6003324e-01  0.0000000e+00  9.8458691e+00  6.3340397e+00\n",
      "   0.0000000e+00  0.0000000e+00  0.0000000e+00  0.0000000e+00\n",
      "   0.0000000e+00  0.0000000e+00  0.0000000e+00  0.0000000e+00\n",
      "   0.0000000e+00 -1.0000000e+00]\n",
      " [ 3.8224626e-01  0.0000000e+00  7.6090307e+00  5.4842267e+00\n",
      "   0.0000000e+00  0.0000000e+00  0.0000000e+00  0.0000000e+00\n",
      "   0.0000000e+00  0.0000000e+00  0.0000000e+00  0.0000000e+00\n",
      "   0.0000000e+00 -1.0000000e+00]\n",
      " [ 4.1045338e-01  0.0000000e+00  5.4147081e+00  4.3604584e+00\n",
      "   0.0000000e+00  0.0000000e+00  0.0000000e+00  0.0000000e+00\n",
      "   0.0000000e+00  0.0000000e+00  0.0000000e+00  0.0000000e+00\n",
      "   0.0000000e+00 -1.0000000e+00]\n",
      " [ 4.4625413e-01  0.0000000e+00  3.6721785e+00  3.3454323e+00\n",
      "   0.0000000e+00  0.0000000e+00  0.0000000e+00  0.0000000e+00\n",
      "   0.0000000e+00  0.0000000e+00  0.0000000e+00  0.0000000e+00\n",
      "   0.0000000e+00 -1.0000000e+00]\n",
      " [ 4.9193722e-01  0.0000000e+00  2.4018054e+00  2.5374994e+00\n",
      "   0.0000000e+00  0.0000000e+00  0.0000000e+00  0.0000000e+00\n",
      "   0.0000000e+00  0.0000000e+00  0.0000000e+00  0.0000000e+00\n",
      "   0.0000000e+00 -1.0000000e+00]\n",
      " [ 5.5084813e-01  0.0000000e+00  1.5092475e+00  1.9262747e+00\n",
      "   0.0000000e+00  0.0000000e+00  0.0000000e+00  0.0000000e+00\n",
      "   0.0000000e+00  0.0000000e+00  0.0000000e+00  0.0000000e+00\n",
      "   0.0000000e+00 -1.0000000e+00]\n",
      " [ 6.2801450e-01  0.0000000e+00  8.9137447e-01  1.4725602e+00\n",
      "   0.0000000e+00  0.0000000e+00  0.0000000e+00  0.0000000e+00\n",
      "   0.0000000e+00  0.0000000e+00  0.0000000e+00  0.0000000e+00\n",
      "   0.0000000e+00 -1.0000000e+00]\n",
      " [ 7.3125708e-01  0.0000000e+00  4.6551543e-01  1.1370456e+00\n",
      "   0.0000000e+00  0.0000000e+00  0.0000000e+00  0.0000000e+00\n",
      "   0.0000000e+00  0.0000000e+00  0.0000000e+00  0.0000000e+00\n",
      "   0.0000000e+00 -1.0000000e+00]\n",
      " [ 8.7326944e-01  0.0000000e+00  1.7189431e-01  8.8800067e-01\n",
      "   0.0000000e+00  0.0000000e+00  0.0000000e+00  0.0000000e+00\n",
      "   0.0000000e+00  0.0000000e+00  0.0000000e+00  0.0000000e+00\n",
      "   0.0000000e+00 -1.0000000e+00]\n",
      " [ 1.0757636e+00  0.0000000e+00 -3.0952841e-02  7.0174915e-01\n",
      "   0.0000000e+00  0.0000000e+00  0.0000000e+00  0.0000000e+00\n",
      "   0.0000000e+00  0.0000000e+00  0.0000000e+00  0.0000000e+00\n",
      "   0.0000000e+00 -1.0000000e+00]\n",
      " [ 1.3784181e+00  0.0000000e+00 -1.7134710e-01  5.6117558e-01\n",
      "   0.0000000e+00  0.0000000e+00  0.0000000e+00  0.0000000e+00\n",
      "   0.0000000e+00  0.0000000e+00  0.0000000e+00  0.0000000e+00\n",
      "   0.0000000e+00 -1.0000000e+00]\n",
      " [ 1.8602153e+00  0.0000000e+00 -2.6857227e-01  4.5404488e-01\n",
      "   0.0000000e+00  0.0000000e+00  0.0000000e+00  0.0000000e+00\n",
      "   0.0000000e+00  0.0000000e+00  0.0000000e+00  0.0000000e+00\n",
      "   0.0000000e+00 -1.0000000e+00]\n",
      " [ 2.6975060e+00  0.0000000e+00 -3.3579955e-01  3.7162009e-01\n",
      "   0.0000000e+00  0.0000000e+00  0.0000000e+00  0.0000000e+00\n",
      "   0.0000000e+00  0.0000000e+00  0.0000000e+00  0.0000000e+00\n",
      "   0.0000000e+00 -1.0000000e+00]\n",
      " [ 4.3539143e+00  0.0000000e+00 -3.8208205e-01  3.0763537e-01\n",
      "   0.0000000e+00  0.0000000e+00  0.0000000e+00  0.0000000e+00\n",
      "   0.0000000e+00  0.0000000e+00  0.0000000e+00  0.0000000e+00\n",
      "   0.0000000e+00 -1.0000000e+00]\n",
      " [ 8.4006844e+00  0.0000000e+00 -4.1369015e-01  2.5756651e-01\n",
      "   0.0000000e+00  0.0000000e+00  0.0000000e+00  0.0000000e+00\n",
      "   0.0000000e+00  0.0000000e+00  0.0000000e+00  0.0000000e+00\n",
      "   0.0000000e+00 -1.0000000e+00]\n",
      " [ 2.3320721e+01  0.0000000e+00 -4.3500248e-01  2.1812043e-01\n",
      "   0.0000000e+00  0.0000000e+00  0.0000000e+00  0.0000000e+00\n",
      "   0.0000000e+00  0.0000000e+00  0.0000000e+00  0.0000000e+00\n",
      "   0.0000000e+00 -1.0000000e+00]\n",
      " [ 2.2524776e+02  0.0000000e+00 -4.4910109e-01  1.8687963e-01\n",
      "   0.0000000e+00  0.0000000e+00  0.0000000e+00  0.0000000e+00\n",
      "   0.0000000e+00  0.0000000e+00  0.0000000e+00  0.0000000e+00\n",
      "   0.0000000e+00 -1.0000000e+00]\n",
      " [ 1.7918445e+02  0.0000000e+00 -4.5817167e-01  1.6205591e-01\n",
      "   0.0000000e+00  0.0000000e+00  0.0000000e+00  0.0000000e+00\n",
      "   0.0000000e+00  0.0000000e+00  0.0000000e+00  0.0000000e+00\n",
      "   0.0000000e+00 -1.0000000e+00]\n",
      " [ 2.1674355e+01  0.0000000e+00 -4.6377414e-01  1.4231709e-01\n",
      "   0.0000000e+00  0.0000000e+00  0.0000000e+00  0.0000000e+00\n",
      "   0.0000000e+00  0.0000000e+00  0.0000000e+00  0.0000000e+00\n",
      "   0.0000000e+00 -1.0000000e+00]\n",
      " [ 8.1207829e+00  0.0000000e+00 -4.6702737e-01  1.2666598e-01\n",
      "   0.0000000e+00  0.0000000e+00  0.0000000e+00  0.0000000e+00\n",
      "   0.0000000e+00  0.0000000e+00  0.0000000e+00  0.0000000e+00\n",
      "   0.0000000e+00 -1.0000000e+00]\n",
      " [ 4.3464365e+00  0.0000000e+00 -4.6873605e-01  1.1435433e-01\n",
      "   0.0000000e+00  0.0000000e+00  0.0000000e+00  0.0000000e+00\n",
      "   0.0000000e+00  0.0000000e+00  0.0000000e+00  0.0000000e+00\n",
      "   0.0000000e+00 -1.0000000e+00]\n",
      " [ 2.8059032e+00  0.0000000e+00 -4.6947846e-01  1.0482212e-01\n",
      "   0.0000000e+00  0.0000000e+00  0.0000000e+00  0.0000000e+00\n",
      "   0.0000000e+00  0.0000000e+00  0.0000000e+00  0.0000000e+00\n",
      "   0.0000000e+00 -1.0000000e+00]\n",
      " [ 2.0504587e+00  0.0000000e+00 -4.6966767e-01  9.7654186e-02\n",
      "   0.0000000e+00  0.0000000e+00  0.0000000e+00  0.0000000e+00\n",
      "   0.0000000e+00  0.0000000e+00  0.0000000e+00  0.0000000e+00\n",
      "   0.0000000e+00 -1.0000000e+00]\n",
      " [ 1.6475666e+00  0.0000000e+00 -4.6959293e-01  9.2549354e-02\n",
      "   0.0000000e+00  0.0000000e+00  0.0000000e+00  0.0000000e+00\n",
      "   0.0000000e+00  0.0000000e+00  0.0000000e+00  0.0000000e+00\n",
      "   0.0000000e+00 -1.0000000e+00]\n",
      " [ 1.4348340e+00  0.0000000e+00 -4.6944886e-01  8.9299291e-02\n",
      "   0.0000000e+00  0.0000000e+00  0.0000000e+00  0.0000000e+00\n",
      "   0.0000000e+00  0.0000000e+00  0.0000000e+00  0.0000000e+00\n",
      "   0.0000000e+00 -1.0000000e+00]\n",
      " [ 1.3448477e+00  0.0000000e+00 -4.6935433e-01  8.7774023e-02\n",
      "   0.0000000e+00  0.0000000e+00  0.0000000e+00  0.0000000e+00\n",
      "   0.0000000e+00  0.0000000e+00  0.0000000e+00  0.0000000e+00\n",
      "   0.0000000e+00 -1.0000000e+00]]\n"
     ]
    }
   ],
   "source": [
    "print(grad_eg)"
   ]
  },
  {
   "cell_type": "code",
   "execution_count": 20,
   "id": "uniform-membrane",
   "metadata": {},
   "outputs": [],
   "source": [
    "d = np.ones(14)\n",
    "d # should be the update vector for the coefficients in x"
   ]
  },
  {
   "cell_type": "code",
   "execution_count": 49,
   "id": "prescribed-bernard",
   "metadata": {},
   "outputs": [
    {
     "data": {
      "text/plain": [
       "array([1., 1., 1., 1., 1., 1., 1., 1., 1., 1., 1., 1., 1., 1.])"
      ]
     },
     "execution_count": 49,
     "metadata": {},
     "output_type": "execute_result"
    }
   ],
   "source": []
  },
  {
   "cell_type": "code",
   "execution_count": 33,
   "id": "increasing-request",
   "metadata": {},
   "outputs": [],
   "source": [
    "objfun = np.matmul(grad_eg, d) + gd"
   ]
  },
  {
   "cell_type": "code",
   "execution_count": 48,
   "id": "transparent-armor",
   "metadata": {},
   "outputs": [
    {
     "data": {
      "text/plain": [
       "296.13525"
      ]
     },
     "execution_count": 48,
     "metadata": {},
     "output_type": "execute_result"
    }
   ],
   "source": [
    "# L2 norm\n",
    "np.linalg.norm(objfun, ord=2)"
   ]
  },
  {
   "cell_type": "code",
   "execution_count": 47,
   "id": "young-evaluation",
   "metadata": {},
   "outputs": [
    {
     "data": {
      "text/plain": [
       "670.0366"
      ]
     },
     "execution_count": 47,
     "metadata": {},
     "output_type": "execute_result"
    }
   ],
   "source": [
    "# L1 norm\n",
    "np.linalg.norm(objfun, ord=1)"
   ]
  },
  {
   "cell_type": "code",
   "execution_count": 46,
   "id": "protecting-entry",
   "metadata": {},
   "outputs": [
    {
     "data": {
      "text/plain": [
       "224.27393"
      ]
     },
     "execution_count": 46,
     "metadata": {},
     "output_type": "execute_result"
    }
   ],
   "source": [
    "# infinity norm\n",
    "np.linalg.norm(objfun, ord=np.inf)"
   ]
  },
  {
   "cell_type": "code",
   "execution_count": null,
   "id": "portuguese-prospect",
   "metadata": {},
   "outputs": [],
   "source": []
  }
 ],
 "metadata": {
  "kernelspec": {
   "display_name": "Python 3",
   "language": "python",
   "name": "python3"
  },
  "language_info": {
   "codemirror_mode": {
    "name": "ipython",
    "version": 3
   },
   "file_extension": ".py",
   "mimetype": "text/x-python",
   "name": "python",
   "nbconvert_exporter": "python",
   "pygments_lexer": "ipython3",
   "version": "3.9.0"
  }
 },
 "nbformat": 4,
 "nbformat_minor": 5
}
