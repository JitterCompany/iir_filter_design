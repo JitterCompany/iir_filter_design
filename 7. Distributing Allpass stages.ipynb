{
 "cells": [
  {
   "cell_type": "markdown",
   "id": "partial-wells",
   "metadata": {},
   "source": [
    "# Distributing poles and zeros for All-pass filters"
   ]
  },
  {
   "cell_type": "code",
   "execution_count": 1,
   "id": "mobile-arrest",
   "metadata": {},
   "outputs": [],
   "source": [
    "from scipy import signal\n",
    "import numpy as np\n",
    "import matplotlib.pyplot as plt\n",
    "\n",
    "\n",
    "plt.rcParams['figure.figsize'] = (20, 8)\n",
    "plt.rcParams['axes.grid'] = True\n",
    "                                  \n",
    "                                  \n",
    "from dsp import simplify_biquad_filters\n",
    "import dsp"
   ]
  },
  {
   "cell_type": "code",
   "execution_count": 2,
   "id": "rapid-silence",
   "metadata": {},
   "outputs": [],
   "source": [
    "\n",
    "def allpass(r, w):\n",
    "    \"\"\" Create second order all pass filter.\n",
    "\n",
    "    r : float [0-1]\n",
    "    w : float [0-π]\n",
    "\n",
    "        (z - r*exp(j*w))(z - r*exp(-j*w))\n",
    "    H = ---------------------------------\n",
    "        (z - r*exp(j*w))(z - r*exp(-j*w))\n",
    "    \n",
    "    returns AtypeSOS\n",
    "    \"\"\"\n",
    "    a = -r*np.exp(1j*w)\n",
    "    b = -r*np.exp(-1j*w)\n",
    "    c = -r*np.exp(1j*w)\n",
    "    d = -r*np.exp(-1j*w)\n",
    "    sos = dsp.StandardSOS(np.real(a*b), np.real(a+b), 1.0,\n",
    "                    1.0, np.real(c+d), np.real(c*d))\n",
    "    return sos\n",
    "\n",
    "def distribute_all_pass_stages(N, r, w_max, w_min=0):\n",
    "    \"\"\" Create N SOS all pass filters by distributing the poles and \n",
    "    zeros through the frequency band (w_min, w_max)\n",
    "\n",
    "    N : int\n",
    "    number of second order stages\n",
    "\n",
    "    w_max : float\n",
    "    maximum frequeny as normalized frequency (1 = Nyquist Frequency)\n",
    "\n",
    "    w_min : float\n",
    "    minimum frequency\n",
    "\n",
    "    returns list of AtypeSOS filter sections\n",
    "    \"\"\"\n",
    "    stages = []\n",
    "    for i in range(1,N+1):\n",
    "        w = w_min*np.pi + (w_max-w_min)/(N+1) * i*np.pi\n",
    "        c = allpass(r, w)\n",
    "        stages.append(c)\n",
    "    return stages"
   ]
  },
  {
   "cell_type": "code",
   "execution_count": null,
   "id": "precise-cholesterol",
   "metadata": {},
   "outputs": [],
   "source": []
  },
  {
   "cell_type": "code",
   "execution_count": 3,
   "id": "dried-winner",
   "metadata": {},
   "outputs": [
    {
     "data": {
      "image/png": "[encoded data removed]",
      "text/plain": [
       "<Figure size 1440x576 with 1 Axes>"
      ]
     },
     "metadata": {
      "needs_background": "light"
     },
     "output_type": "display_data"
    }
   ],
   "source": [
    "all_pass = distribute_all_pass_stages(6, 0.8, 0.5, 0.2)\n",
    "z,p,k = signal.sos2zpk(all_pass)\n",
    "\n",
    "# Create zero-pole plot\n",
    "fig = plt.figure()\n",
    "ax = fig.gca()\n",
    "dsp.zplane(z, p, ax)\n"
   ]
  },
  {
   "cell_type": "code",
   "execution_count": 5,
   "id": "reported-america",
   "metadata": {},
   "outputs": [
    {
     "data": {
      "text/plain": [
       "[StandardSOS(b0=0.6400000000000001, b1=-1.1564717821238266, b2=1.0, a0=1.0, a1=-1.1564717821238266, a2=0.6400000000000001),\n",
       " StandardSOS(b0=0.64, b1=-0.9975836829739738, b2=1.0, a0=1.0, a1=-0.9975836829739738, a2=0.64),\n",
       " StandardSOS(b0=0.6400000000000001, b1=-0.8206388438494501, b2=1.0, a0=1.0, a1=-0.8206388438494501, a2=0.6400000000000001),\n",
       " StandardSOS(b0=0.6399999999999999, b1=-0.6288400506462779, b2=1.0, a0=1.0, a1=-0.6288400506462779, a2=0.6399999999999999),\n",
       " StandardSOS(b0=0.64, b1=-0.4256589529066803, b2=1.0, a0=1.0, a1=-0.4256589529066803, a2=0.64),\n",
       " StandardSOS(b0=0.6399999999999999, b1=-0.21477322530824883, b2=1.0, a0=1.0, a1=-0.21477322530824883, a2=0.6399999999999999)]"
      ]
     },
     "execution_count": 5,
     "metadata": {},
     "output_type": "execute_result"
    }
   ],
   "source": [
    "all_pass"
   ]
  },
  {
   "cell_type": "code",
   "execution_count": 23,
   "id": "sorted-reform",
   "metadata": {},
   "outputs": [
    {
     "data": {
      "text/plain": [
       "0.068719476736"
      ]
     },
     "execution_count": 23,
     "metadata": {},
     "output_type": "execute_result"
    }
   ],
   "source": [
    "k"
   ]
  },
  {
   "cell_type": "code",
   "execution_count": null,
   "id": "approximate-excitement",
   "metadata": {},
   "outputs": [],
   "source": []
  }
 ],
 "metadata": {
  "kernelspec": {
   "display_name": "Python 3",
   "language": "python",
   "name": "python3"
  },
  "language_info": {
   "codemirror_mode": {
    "name": "ipython",
    "version": 3
   },
   "file_extension": ".py",
   "mimetype": "text/x-python",
   "name": "python",
   "nbconvert_exporter": "python",
   "pygments_lexer": "ipython3",
   "version": "3.9.0"
  }
 },
 "nbformat": 4,
 "nbformat_minor": 5
}
