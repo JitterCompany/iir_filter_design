{
 "cells": [
  {
   "cell_type": "markdown",
   "id": "surprising-resource",
   "metadata": {},
   "source": [
    "# Numerical Differentation\n",
    "\n",
    "For optimization problems we often need to obtain the gradient of a function. Often it is not easy or possible to do this analytically. Therefor we use numerical methods. \n",
    "\n",
    "In python there are several modules that facilitate differentation:\n",
    "\n",
    "* [algopy](https://pythonhosted.org/algopy/)\n",
    "* [Autograd](https://github.com/HIPS/autograd) / [Jax](https://jax.readthedocs.io/en/latest/index.html)\n",
    "* [PyTorch](https://pytorch.org/docs/stable/autograd.html)\n",
    "\n",
    "Let's try it with the simple function $f(x) = x^2$"
   ]
  },
  {
   "cell_type": "code",
   "execution_count": 1,
   "id": "processed-diameter",
   "metadata": {},
   "outputs": [],
   "source": [
    "def f(x):\n",
    "    return x**2"
   ]
  },
  {
   "cell_type": "markdown",
   "id": "exact-determination",
   "metadata": {},
   "source": [
    "## Algopy"
   ]
  },
  {
   "cell_type": "code",
   "execution_count": 2,
   "id": "respected-weekend",
   "metadata": {},
   "outputs": [],
   "source": [
    "import algopy as al"
   ]
  },
  {
   "cell_type": "code",
   "execution_count": 3,
   "id": "industrial-effort",
   "metadata": {},
   "outputs": [
    {
     "name": "stdout",
     "output_type": "stream",
     "text": [
      "Help on method init_jacobian in module algopy.utpm.utpm:\n",
      "\n",
      "init_jacobian(x, dtype=None) method of builtins.type instance\n",
      "    initializes this UTPM instance to compute the Jacobian,\n",
      "    \n",
      "    it is possible to force the dtype to a certain dtype,\n",
      "    if no dtype is provided, the dtype is inferred from x\n",
      "\n"
     ]
    }
   ],
   "source": [
    "help(al.UTPM.init_jacobian)"
   ]
  },
  {
   "cell_type": "code",
   "execution_count": 4,
   "id": "apart-convert",
   "metadata": {},
   "outputs": [
    {
     "data": {
      "text/plain": [
       "UTPM([[[1. 2. 3.]\n",
       "  [1. 2. 3.]\n",
       "  [1. 2. 3.]]\n",
       "\n",
       " [[1. 0. 0.]\n",
       "  [0. 1. 0.]\n",
       "  [0. 0. 1.]]])"
      ]
     },
     "execution_count": 4,
     "metadata": {},
     "output_type": "execute_result"
    }
   ],
   "source": [
    "j = al.UTPM.init_jacobian([1,2,3])\n",
    "j"
   ]
  },
  {
   "cell_type": "code",
   "execution_count": 5,
   "id": "quarterly-lawyer",
   "metadata": {},
   "outputs": [
    {
     "data": {
      "text/plain": [
       "array([[1., 0., 0.],\n",
       "       [0., 1., 0.],\n",
       "       [0., 0., 1.]])"
      ]
     },
     "execution_count": 5,
     "metadata": {},
     "output_type": "execute_result"
    }
   ],
   "source": [
    " al.UTPM.extract_jacobian(j)"
   ]
  },
  {
   "cell_type": "code",
   "execution_count": 6,
   "id": "affecting-actor",
   "metadata": {},
   "outputs": [
    {
     "data": {
      "text/plain": [
       "UTPM([[[1. 4. 9.]\n",
       "  [1. 4. 9.]\n",
       "  [1. 4. 9.]]\n",
       "\n",
       " [[2. 0. 0.]\n",
       "  [0. 4. 0.]\n",
       "  [0. 0. 6.]]])"
      ]
     },
     "execution_count": 6,
     "metadata": {},
     "output_type": "execute_result"
    }
   ],
   "source": [
    "fj = f(j)\n",
    "fj"
   ]
  },
  {
   "cell_type": "code",
   "execution_count": 7,
   "id": "about-advisory",
   "metadata": {},
   "outputs": [
    {
     "data": {
      "text/plain": [
       "array([[2., 0., 0.],\n",
       "       [0., 4., 0.],\n",
       "       [0., 0., 6.]])"
      ]
     },
     "execution_count": 7,
     "metadata": {},
     "output_type": "execute_result"
    }
   ],
   "source": [
    " al.UTPM.extract_jacobian(fj)"
   ]
  },
  {
   "cell_type": "markdown",
   "id": "eligible-match",
   "metadata": {},
   "source": [
    "## JAX"
   ]
  },
  {
   "cell_type": "code",
   "execution_count": 8,
   "id": "bound-catch",
   "metadata": {},
   "outputs": [],
   "source": [
    "import jax\n",
    "import numpy as np"
   ]
  },
  {
   "cell_type": "code",
   "execution_count": 9,
   "id": "italic-eagle",
   "metadata": {},
   "outputs": [
    {
     "name": "stderr",
     "output_type": "stream",
     "text": [
      "WARNING:absl:No GPU/TPU found, falling back to CPU. (Set TF_CPP_MIN_LOG_LEVEL=0 and rerun for more info.)\n"
     ]
    },
    {
     "data": {
      "text/plain": [
       "DeviceArray([[2., 0., 0.],\n",
       "             [0., 4., 0.],\n",
       "             [0., 0., 6.]], dtype=float32)"
      ]
     },
     "execution_count": 9,
     "metadata": {},
     "output_type": "execute_result"
    }
   ],
   "source": [
    "df = jax.jacfwd(f)\n",
    "df(np.array([1.,2.,3.]))"
   ]
  },
  {
   "cell_type": "code",
   "execution_count": 10,
   "id": "literary-progress",
   "metadata": {},
   "outputs": [
    {
     "data": {
      "text/plain": [
       "DeviceArray([[2., 0., 0.],\n",
       "             [0., 4., 0.],\n",
       "             [0., 0., 6.]], dtype=float32)"
      ]
     },
     "execution_count": 10,
     "metadata": {},
     "output_type": "execute_result"
    }
   ],
   "source": [
    "df = jax.jacrev(f)\n",
    "df(np.array([1.,2.,3.]))"
   ]
  },
  {
   "cell_type": "code",
   "execution_count": 11,
   "id": "false-blackjack",
   "metadata": {},
   "outputs": [
    {
     "data": {
      "text/plain": [
       "DeviceArray([2., 4., 6.], dtype=float32)"
      ]
     },
     "execution_count": 11,
     "metadata": {},
     "output_type": "execute_result"
    }
   ],
   "source": [
    "df2 = jax.vmap(jax.grad(f))\n",
    "df2(np.array([1.,2.,3.]))"
   ]
  },
  {
   "cell_type": "markdown",
   "id": "voluntary-intranet",
   "metadata": {},
   "source": [
    "# Filters"
   ]
  },
  {
   "cell_type": "code",
   "execution_count": 12,
   "id": "artificial-bobby",
   "metadata": {},
   "outputs": [
    {
     "name": "stdout",
     "output_type": "stream",
     "text": [
      "1 filter sections: \n",
      " [[ 1.18652453e-03 -1.54563590e-03  1.18652453e-03  1.00000000e+00\n",
      "  -1.95892877e+00  9.59756186e-01]]\n"
     ]
    }
   ],
   "source": [
    "from scipy import signal\n",
    "from dsp import simplify_biquad_filters\n",
    "import dsp\n",
    "sos = signal.iirfilter(2, 100, btype='low',\n",
    "                       analog=False, rs=60,\n",
    "                        ftype='cheby2', fs=1000,output='sos')\n",
    "print(\"{} filter sections: \\n\".format(len(sos)), sos)"
   ]
  },
  {
   "cell_type": "markdown",
   "id": "oriented-jesus",
   "metadata": {},
   "source": []
  },
  {
   "cell_type": "code",
   "execution_count": 13,
   "id": "wired-airplane",
   "metadata": {},
   "outputs": [],
   "source": [
    "c = simplify_biquad_filters(sos)"
   ]
  },
  {
   "cell_type": "code",
   "execution_count": 14,
   "id": "spare-playing",
   "metadata": {},
   "outputs": [],
   "source": [
    "df = jax.jacfwd(dsp.group_delay)"
   ]
  },
  {
   "cell_type": "code",
   "execution_count": null,
   "id": "unexpected-converter",
   "metadata": {},
   "outputs": [],
   "source": []
  },
  {
   "cell_type": "markdown",
   "id": "radical-damage",
   "metadata": {},
   "source": [
    "## Group Delay"
   ]
  },
  {
   "cell_type": "code",
   "execution_count": 15,
   "id": "applied-journey",
   "metadata": {},
   "outputs": [],
   "source": [
    "import numpy as np\n",
    "import matplotlib.pyplot as plt\n",
    "\n",
    "plt.rcParams['figure.figsize'] = (20, 8)\n",
    "plt.rcParams['axes.grid'] = True\n",
    "                                  \n",
    "\n",
    "import jax.numpy as jnp\n",
    "\n",
    "def group_delay(c, w):\n",
    "    \"\"\"\n",
    "    Calculates the group delay for filter with coefficients c for the given frequencies in w\n",
    "    \n",
    "    Parameters\n",
    "    ----------\n",
    "    \n",
    "    c: ndarray\n",
    "        list of all coefficients of all seconds order stages:\n",
    "        [a_01 a_11 b_01 b_11 ... b_0N b_1N H0]\n",
    "\n",
    "    w: ndarray\n",
    "        frequency bins in the range [0, π] to evaluate the group delay on\n",
    "\n",
    "    \"\"\"\n",
    "    \n",
    "    J = len(c) // 4 # num stages: we don't use H0 = c[-1]\n",
    "    group_delay = 0\n",
    "    for i in range(0, J*4, 4):\n",
    "\n",
    "        a0, a1, b0, b1 = c[i:i+4]\n",
    "\n",
    "        alpha_n = 1 - a0**2 + a1*(1 - a0) * jnp.cos(w)\n",
    "        beta_n = a0**2 + a1**2 + 1 + 2*a0*1*(2*jnp.cos(w)**2 - 1) + 2*a1*(a0 + 1)*jnp.cos(w)\n",
    "        alpha_d = 1 - b0**2 + b1*(1 - b0)*jnp.cos(w)\n",
    "        beta_d =  b0**2 + b1**2 + 1 + 2*b0*1*(2*jnp.cos(w)**2 - 1) + 2*b1*(b0 + 1)*jnp.cos(w)\n",
    "\n",
    "        group_delay += -alpha_n/beta_n + alpha_d/beta_d\n",
    "\n",
    "    return group_delay"
   ]
  },
  {
   "cell_type": "code",
   "execution_count": 16,
   "id": "bound-blame",
   "metadata": {},
   "outputs": [
    {
     "data": {
      "text/plain": [
       "array([ 1.00000000e+00, -1.30265819e+00,  9.59756186e-01, -1.95892877e+00,\n",
       "        1.18652453e-03])"
      ]
     },
     "execution_count": 16,
     "metadata": {},
     "output_type": "execute_result"
    }
   ],
   "source": [
    "c"
   ]
  },
  {
   "cell_type": "code",
   "execution_count": 17,
   "id": "pursuant-feedback",
   "metadata": {},
   "outputs": [
    {
     "data": {
      "text/plain": [
       "DeviceArray([4.434561  , 0.294925  , 0.10001332, 0.05116341, 0.03194387,\n",
       "             0.02253046, 0.01730407, 0.01418378, 0.01226121, 0.01109693,\n",
       "             0.01046859, 0.01026972], dtype=float32)"
      ]
     },
     "execution_count": 17,
     "metadata": {},
     "output_type": "execute_result"
    }
   ],
   "source": [
    "w = np.linspace(0.1, np.pi, 12, dtype='float32') # jnp uses float32 by default. For w=0 there is a different between float32 and float64\n",
    "group_delay(c, w)"
   ]
  },
  {
   "cell_type": "code",
   "execution_count": 18,
   "id": "exact-ambassador",
   "metadata": {},
   "outputs": [
    {
     "data": {
      "text/plain": [
       "array([4.434561  , 0.294925  , 0.10001332, 0.05116337, 0.03194387,\n",
       "       0.02253046, 0.01730407, 0.01418378, 0.01226121, 0.01109693,\n",
       "       0.01046859, 0.01026972], dtype=float32)"
      ]
     },
     "execution_count": 18,
     "metadata": {},
     "output_type": "execute_result"
    }
   ],
   "source": [
    "dsp.group_delay(c, w)"
   ]
  },
  {
   "cell_type": "code",
   "execution_count": 19,
   "id": "molecular-assignment",
   "metadata": {},
   "outputs": [],
   "source": [
    "group_delay_gradient = jax.jacrev(group_delay)"
   ]
  },
  {
   "cell_type": "code",
   "execution_count": 20,
   "id": "sought-punishment",
   "metadata": {},
   "outputs": [],
   "source": [
    "w = np.linspace(0.1, np.pi, 10, dtype='float32') # jnp uses float32 by default. For w=0 there is a different between float32 and float64\n",
    "gd = group_delay(c, w)\n",
    "gd_g = group_delay_gradient(c, w)"
   ]
  },
  {
   "cell_type": "code",
   "execution_count": 21,
   "id": "chronic-arrival",
   "metadata": {},
   "outputs": [
    {
     "data": {
      "text/plain": [
       "[<matplotlib.lines.Line2D at 0x12a1e28e0>]"
      ]
     },
     "execution_count": 21,
     "metadata": {},
     "output_type": "execute_result"
    },
    {
     "data": {
      "image/png": "[encoded data removed]",
      "text/plain": [
       "<Figure size 1440x576 with 1 Axes>"
      ]
     },
     "metadata": {
      "needs_background": "light"
     },
     "output_type": "display_data"
    }
   ],
   "source": [
    "plt.plot(w, gd)"
   ]
  },
  {
   "cell_type": "code",
   "execution_count": 22,
   "id": "native-century",
   "metadata": {},
   "outputs": [
    {
     "data": {
      "text/plain": [
       "(10,)"
      ]
     },
     "execution_count": 22,
     "metadata": {},
     "output_type": "execute_result"
    }
   ],
   "source": [
    "gd.shape"
   ]
  },
  {
   "cell_type": "code",
   "execution_count": 23,
   "id": "published-european",
   "metadata": {},
   "outputs": [
    {
     "data": {
      "text/plain": [
       "(10, 5)"
      ]
     },
     "execution_count": 23,
     "metadata": {},
     "output_type": "execute_result"
    }
   ],
   "source": [
    "gd_g.shape"
   ]
  },
  {
   "cell_type": "markdown",
   "id": "published-english",
   "metadata": {},
   "source": [
    "# Magnitude Squared"
   ]
  },
  {
   "cell_type": "code",
   "execution_count": 24,
   "id": "breathing-forge",
   "metadata": {},
   "outputs": [],
   "source": [
    "\n",
    "def H_eval(c, w):\n",
    "    \"\"\" Evaluates the filter transfer function for each frequency in w.\n",
    "\n",
    "    Parameters\n",
    "    ----------\n",
    "     c: ndarray\n",
    "        list of all coefficients of all seconds order stages:\n",
    "        [a_01 a_11 b_01 b_11 ... b_0N b_1N H0]\n",
    "            \n",
    "    w : ndarray\n",
    "        frequency bins between 0 and 2π\n",
    "        \n",
    "    Returns\n",
    "    -------\n",
    "    \n",
    "    H: ndarray with dtype 'complex64'\n",
    "    \n",
    "    \"\"\"\n",
    "\n",
    "    _H = jnp.ones(len(w), dtype='complex64')\n",
    "    J = len(c) // 4 # number of 2nd order filter sections\n",
    "    H0 = c[J*4] # H0 is the first element after the coefficients. \n",
    "    for i in range(0, J*4, 4):\n",
    "        a0, a1, b0, b1 = c[i:i+4]\n",
    "        _H *= (a0 + a1*jnp.exp(1j*w) + jnp.exp(2*1j*w)) / (b0 + b1*jnp.exp(1j*w) + jnp.exp(2*1j*w))\n",
    "    return H0 * _H\n",
    "\n",
    "def H_mag_squared(c, w):\n",
    "    \"\"\" \n",
    "    Calculcate the squared magnitude response of the filter.\n",
    "    \n",
    "    Parameters\n",
    "    ----------\n",
    "     c: ndarray\n",
    "        list of all coefficients of all seconds order stages:\n",
    "        [a_01 a_11 b_01 b_11 ... b_0N b_1N H0]\n",
    "            \n",
    "    w : ndarray\n",
    "        frequency bins between 0 and 2π\n",
    "        \n",
    "        \n",
    "    Returns\n",
    "    -------\n",
    "    \n",
    "    H: ndarray with dtype 'float32'\n",
    "        \n",
    "    \"\"\"\n",
    "    return jnp.abs(H_eval(c,w))**2"
   ]
  },
  {
   "cell_type": "code",
   "execution_count": 25,
   "id": "greek-stamp",
   "metadata": {},
   "outputs": [],
   "source": [
    "H_mag_squared_gradient = jax.jacrev(H_mag_squared)"
   ]
  },
  {
   "cell_type": "code",
   "execution_count": 26,
   "id": "welsh-status",
   "metadata": {},
   "outputs": [
    {
     "data": {
      "text/plain": [
       "DeviceArray([-0.07576647-3.3961475e-02j, -0.00324933-3.0117389e-04j,\n",
       "             -0.00026395-1.3282791e-05j,  0.00045519+1.5022849e-05j,\n",
       "              0.00073178+1.6938713e-05j,  0.0008641 +1.4234483e-05j,\n",
       "              0.00093482+1.0663560e-05j,  0.0009739 +7.0300780e-06j,\n",
       "              0.00099385+3.4826121e-06j,  0.001     -8.9779920e-13j],            dtype=complex64)"
      ]
     },
     "execution_count": 26,
     "metadata": {},
     "output_type": "execute_result"
    }
   ],
   "source": [
    "H_eval(c, w)"
   ]
  },
  {
   "cell_type": "code",
   "execution_count": 27,
   "id": "sealed-section",
   "metadata": {},
   "outputs": [
    {
     "data": {
      "text/plain": [
       "DeviceArray([[ 1.99592561e-02,  3.79241355e-05,  7.98256508e-07,\n",
       "              -4.35512305e-07, -1.19401292e-07,  1.86796797e-07,\n",
       "               3.91542130e-07,  5.16937746e-07,  5.84333861e-07,\n",
       "               6.05572723e-07],\n",
       "             [ 2.00594701e-02,  4.18763921e-05,  1.11834368e-06,\n",
       "              -9.87115300e-07, -1.00593445e-06, -8.59897284e-07,\n",
       "              -7.40737107e-07, -6.62623279e-07, -6.19368564e-07,\n",
       "              -6.05572723e-07],\n",
       "             [ 1.33183432e+00,  1.08363936e-04,  1.86346085e-07,\n",
       "               1.78293206e-07,  8.78992239e-08, -1.25967347e-07,\n",
       "              -3.02831467e-07, -4.21845158e-07, -4.88842829e-07,\n",
       "              -5.10375173e-07],\n",
       "             [ 1.28091371e+00,  1.14679475e-04,  2.48783522e-07,\n",
       "               3.78690942e-07,  6.20404876e-07,  6.26230701e-07,\n",
       "               5.83601320e-07,  5.43879594e-07,  5.18791126e-07,\n",
       "               5.10375173e-07],\n",
       "             [ 1.16203928e+01,  1.79496035e-02,  1.17732838e-04,\n",
       "               3.49633861e-04,  9.03130218e-04,  1.25892542e-03,\n",
       "               1.47321983e-03,  1.59882673e-03,  1.66494085e-03,\n",
       "               1.68559502e-03]], dtype=float32)"
      ]
     },
     "execution_count": 27,
     "metadata": {},
     "output_type": "execute_result"
    }
   ],
   "source": [
    "H_mag_squared_gradient(c, w).T"
   ]
  },
  {
   "cell_type": "code",
   "execution_count": 28,
   "id": "growing-freeware",
   "metadata": {},
   "outputs": [],
   "source": [
    "import gradients"
   ]
  },
  {
   "cell_type": "code",
   "execution_count": 29,
   "id": "collected-wonder",
   "metadata": {},
   "outputs": [],
   "source": [
    "tau = np.mean(gradients._group_delay(c, w))"
   ]
  },
  {
   "cell_type": "code",
   "execution_count": 30,
   "id": "coordinated-laugh",
   "metadata": {},
   "outputs": [],
   "source": [
    "x = np.r_[c, tau]"
   ]
  },
  {
   "cell_type": "code",
   "execution_count": 31,
   "id": "continental-benefit",
   "metadata": {},
   "outputs": [],
   "source": [
    "gdd_grad = gradients.group_delay_deviation_gradient(x, w)"
   ]
  },
  {
   "cell_type": "code",
   "execution_count": 32,
   "id": "ambient-designation",
   "metadata": {},
   "outputs": [
    {
     "data": {
      "text/plain": [
       "(10, 6)"
      ]
     },
     "execution_count": 32,
     "metadata": {},
     "output_type": "execute_result"
    }
   ],
   "source": [
    "gdd_grad.shape"
   ]
  },
  {
   "cell_type": "code",
   "execution_count": 33,
   "id": "political-casino",
   "metadata": {},
   "outputs": [
    {
     "data": {
      "text/plain": [
       "DeviceArray([ 1.4897845e+00,  0.0000000e+00,  1.1657266e+03,\n",
       "              1.2410339e+03,  0.0000000e+00, -1.0000000e+00],            dtype=float32)"
      ]
     },
     "execution_count": 33,
     "metadata": {},
     "output_type": "execute_result"
    }
   ],
   "source": [
    "gdd_grad[0]"
   ]
  },
  {
   "cell_type": "code",
   "execution_count": 34,
   "id": "eleven-suspect",
   "metadata": {},
   "outputs": [
    {
     "data": {
      "text/plain": [
       "(10,)"
      ]
     },
     "execution_count": 34,
     "metadata": {},
     "output_type": "execute_result"
    }
   ],
   "source": [
    "gradients._group_delay(c, w).shape"
   ]
  },
  {
   "cell_type": "code",
   "execution_count": 35,
   "id": "accredited-polish",
   "metadata": {},
   "outputs": [
    {
     "data": {
      "text/plain": [
       "DeviceArray([ 1.4897845 ,  3.1713195 , 68.58904   ,  8.069616  ,\n",
       "              1.6261872 ,  0.7565568 ,  0.48279208,  0.36799756,\n",
       "              0.31740344,  0.3027864 ], dtype=float32)"
      ]
     },
     "execution_count": 35,
     "metadata": {},
     "output_type": "execute_result"
    }
   ],
   "source": [
    "gdd_grad[:, 0]"
   ]
  },
  {
   "cell_type": "code",
   "execution_count": 36,
   "id": "novel-oriental",
   "metadata": {},
   "outputs": [
    {
     "data": {
      "text/plain": [
       "DeviceArray([[ 1.4897845e+00,  0.0000000e+00,  1.1657266e+03,\n",
       "               1.2410339e+03,  0.0000000e+00, -1.0000000e+00],\n",
       "             [ 3.1713195e+00,  0.0000000e+00, -2.0298386e+00,\n",
       "               3.4194522e+00,  0.0000000e+00, -1.0000000e+00],\n",
       "             [ 6.8589043e+01,  0.0000000e+00, -1.4657755e+00,\n",
       "               3.4726948e-01,  0.0000000e+00, -1.0000000e+00],\n",
       "             [ 8.0696163e+00,  0.0000000e+00, -8.4865284e-01,\n",
       "               8.1952862e-02,  0.0000000e+00, -1.0000000e+00],\n",
       "             [ 1.6261872e+00,  0.0000000e+00, -5.6194872e-01,\n",
       "               2.8595442e-02,  0.0000000e+00, -1.0000000e+00],\n",
       "             [ 7.5655681e-01,  0.0000000e+00, -4.1512015e-01,\n",
       "               1.2613251e-02,  0.0000000e+00, -1.0000000e+00],\n",
       "             [ 4.8279208e-01,  0.0000000e+00, -3.3407891e-01,\n",
       "               6.6013816e-03,  0.0000000e+00, -1.0000000e+00],\n",
       "             [ 3.6799756e-01,  0.0000000e+00, -2.8853643e-01,\n",
       "               4.0353509e-03,  0.0000000e+00, -1.0000000e+00],\n",
       "             [ 3.1740344e-01,  0.0000000e+00, -2.6507175e-01,\n",
       "               2.9324777e-03,  0.0000000e+00, -1.0000000e+00],\n",
       "             [ 3.0278641e-01,  0.0000000e+00, -2.5780836e-01,\n",
       "               2.6207047e-03,  0.0000000e+00, -1.0000000e+00]],            dtype=float32)"
      ]
     },
     "execution_count": 36,
     "metadata": {},
     "output_type": "execute_result"
    }
   ],
   "source": [
    "gdd_grad"
   ]
  },
  {
   "cell_type": "code",
   "execution_count": 37,
   "id": "informal-london",
   "metadata": {},
   "outputs": [
    {
     "data": {
      "text/plain": [
       "DeviceArray([4.434561  , 0.21855392, 0.0718529 , 0.03677619, 0.02331203,\n",
       "             0.0168762 , 0.01343778, 0.01153842, 0.0105687 , 0.01026972],            dtype=float32)"
      ]
     },
     "execution_count": 37,
     "metadata": {},
     "output_type": "execute_result"
    }
   ],
   "source": [
    "gradients._group_delay(c, w)"
   ]
  },
  {
   "cell_type": "markdown",
   "id": "diagnostic-reaction",
   "metadata": {},
   "source": [
    "# Complex frequency response"
   ]
  },
  {
   "cell_type": "code",
   "execution_count": 64,
   "id": "brilliant-classics",
   "metadata": {},
   "outputs": [],
   "source": [
    "primals_out, vjpfun = jax.vjp(H_eval, c, w)"
   ]
  },
  {
   "cell_type": "code",
   "execution_count": 65,
   "id": "surface-honor",
   "metadata": {},
   "outputs": [
    {
     "data": {
      "text/plain": [
       "DeviceArray([ 1.0000495e+00-3.76516953e-04j,\n",
       "              6.8833703e-01-6.78954840e-01j,\n",
       "             -8.0356182e-04-4.83440635e-05j,\n",
       "              5.1608123e-04+1.60509262e-05j,\n",
       "             -3.9193537e-02+1.18483035e-02j], dtype=complex64)"
      ]
     },
     "execution_count": 65,
     "metadata": {},
     "output_type": "execute_result"
    }
   ],
   "source": [
    "primals_out"
   ]
  },
  {
   "cell_type": "code",
   "execution_count": 66,
   "id": "immune-blackjack",
   "metadata": {},
   "outputs": [
    {
     "ename": "TypeError",
     "evalue": "Type of cotangent input to vjp pullback function (complex64) is not the expected tangent type (float32) of corresponding primal output with dtype float32.",
     "output_type": "error",
     "traceback": [
      "\u001b[0;31m---------------------------------------------------------------------------\u001b[0m",
      "\u001b[0;31mTypeError\u001b[0m                                 Traceback (most recent call last)",
      "\u001b[0;32m<ipython-input-66-129765367843>\u001b[0m in \u001b[0;36m<module>\u001b[0;34m\u001b[0m\n\u001b[0;32m----> 1\u001b[0;31m \u001b[0mvjpfun\u001b[0m\u001b[0;34m(\u001b[0m\u001b[0mc\u001b[0m\u001b[0;34m)\u001b[0m\u001b[0;34m\u001b[0m\u001b[0;34m\u001b[0m\u001b[0m\n\u001b[0m",
      "\u001b[0;32m~/.local/share/virtualenvs/filter_design_2021-9KhhNNV_/lib/python3.9/site-packages/jax/api.py\u001b[0m in \u001b[0;36m_vjp_pullback_wrapper\u001b[0;34m(cotangent_dtypes, io_tree, fun, py_args)\u001b[0m\n\u001b[1;32m   1828\u001b[0m     \u001b[0mexpected_tangent_dtype\u001b[0m \u001b[0;34m=\u001b[0m \u001b[0mcore\u001b[0m\u001b[0;34m.\u001b[0m\u001b[0mprimal_dtype_to_tangent_dtype\u001b[0m\u001b[0;34m(\u001b[0m\u001b[0m_dtype\u001b[0m\u001b[0;34m(\u001b[0m\u001b[0marg\u001b[0m\u001b[0;34m)\u001b[0m\u001b[0;34m)\u001b[0m\u001b[0;34m\u001b[0m\u001b[0;34m\u001b[0m\u001b[0m\n\u001b[1;32m   1829\u001b[0m     \u001b[0;32mif\u001b[0m \u001b[0mexpected_tangent_dtype\u001b[0m \u001b[0;34m!=\u001b[0m \u001b[0mct_dtype\u001b[0m\u001b[0;34m:\u001b[0m\u001b[0;34m\u001b[0m\u001b[0;34m\u001b[0m\u001b[0m\n\u001b[0;32m-> 1830\u001b[0;31m       raise TypeError(\n\u001b[0m\u001b[1;32m   1831\u001b[0m           \u001b[0;34mf\"Type of cotangent input to vjp pullback function ({ct_dtype}) is not \"\u001b[0m\u001b[0;34m\u001b[0m\u001b[0;34m\u001b[0m\u001b[0m\n\u001b[1;32m   1832\u001b[0m           \u001b[0;34mf\"the expected tangent type ({expected_tangent_dtype}) of corresponding primal output \"\u001b[0m\u001b[0;34m\u001b[0m\u001b[0;34m\u001b[0m\u001b[0m\n",
      "\u001b[0;31mTypeError\u001b[0m: Type of cotangent input to vjp pullback function (complex64) is not the expected tangent type (float32) of corresponding primal output with dtype float32."
     ]
    }
   ],
   "source": [
    "vjpfun(c)"
   ]
  },
  {
   "cell_type": "code",
   "execution_count": 67,
   "id": "awful-youth",
   "metadata": {},
   "outputs": [
    {
     "data": {
      "text/plain": [
       "array([ 1.00000000e+00, -1.30265819e+00,  9.59756186e-01, -1.95892877e+00,\n",
       "        1.18652453e-03])"
      ]
     },
     "execution_count": 67,
     "metadata": {},
     "output_type": "execute_result"
    }
   ],
   "source": [
    "c"
   ]
  },
  {
   "cell_type": "code",
   "execution_count": 47,
   "id": "outer-collector",
   "metadata": {},
   "outputs": [
    {
     "data": {
      "text/plain": [
       "array([ 1.00000000e+00, -1.30265819e+00,  9.59756186e-01, -1.95892877e+00,\n",
       "        1.18652453e-03])"
      ]
     },
     "execution_count": 47,
     "metadata": {},
     "output_type": "execute_result"
    }
   ],
   "source": [
    "c"
   ]
  },
  {
   "cell_type": "code",
   "execution_count": 52,
   "id": "federal-nirvana",
   "metadata": {},
   "outputs": [],
   "source": [
    "c.dtype = 'complex64'"
   ]
  },
  {
   "cell_type": "code",
   "execution_count": 53,
   "id": "lovely-report",
   "metadata": {},
   "outputs": [
    {
     "data": {
      "text/plain": [
       "array([            nan+1.8749999j ,  1.28489454e-20-1.9128323j ,\n",
       "       -9.52686300e-23+1.864939j  , -1.37341889e-08-1.994866j  ,\n",
       "        4.45570985e-37+0.82593757j], dtype=complex64)"
      ]
     },
     "execution_count": 53,
     "metadata": {},
     "output_type": "execute_result"
    }
   ],
   "source": [
    "c"
   ]
  },
  {
   "cell_type": "code",
   "execution_count": 38,
   "id": "fifty-supervision",
   "metadata": {},
   "outputs": [],
   "source": [
    "def H_gradient(x, w):\n",
    "    \n",
    "    J = len(c) // 4 # number of 2nd order filter sections\n",
    "    H0 = c[J*4] # H0 is the first element after the coefficients. \n",
    "    \n",
    "    H = H_eval(x, w)\n",
    "    grad = []\n",
    "    for i in range(0, J*4, 4):\n",
    "        a0, a1, b0, b1 = c[i:i+4]\n",
    "        \n",
    "        \n",
    "        dhda0 = (1 / (a0 + (a1 + 1) * np.exp(1j*w))) * H\n",
    "        dhda1 = (np.exp(1j*w) / (a0 + (a1 + 1) * np.exp(1j*w))) * H\n",
    "        \n",
    "        dhdb0 = (1 / (b0 + (b1 + 1) * np.exp(1j*w))) * H\n",
    "        dhdb1 = (np.exp(1j*w) / (b0 + (b1 + 1) * np.exp(1j*w))) * H\n",
    "        \n",
    "        \n",
    "        grad.extend([dhda0, dhda1, dhdb0, dhdb1 ])\n",
    "\n",
    "    dhdh0 = np.ones(len(w))\n",
    "    dhdtau = np.zeros(len(w))\n",
    "    grad.extend([dhdh0, dhdtau])\n",
    "\n",
    "    return np.c_[grad].T\n",
    "        "
   ]
  },
  {
   "cell_type": "code",
   "execution_count": 62,
   "id": "attended-reputation",
   "metadata": {},
   "outputs": [
    {
     "data": {
      "text/plain": [
       "array([ 1.00000000e+00, -1.30265819e+00,  9.59756186e-01, -1.95892877e+00,\n",
       "        1.18652453e-03,  4.84774649e-01])"
      ]
     },
     "execution_count": 62,
     "metadata": {},
     "output_type": "execute_result"
    }
   ],
   "source": [
    "x"
   ]
  },
  {
   "cell_type": "code",
   "execution_count": 40,
   "id": "environmental-maryland",
   "metadata": {},
   "outputs": [
    {
     "data": {
      "text/plain": [
       "array([0.1       , 0.43795475, 0.7759095 , 1.1138642 , 1.451819  ,\n",
       "       1.7897737 , 2.1277285 , 2.4656832 , 2.803638  , 3.1415927 ],\n",
       "      dtype=float32)"
      ]
     },
     "execution_count": 40,
     "metadata": {},
     "output_type": "execute_result"
    }
   ],
   "source": [
    "w"
   ]
  },
  {
   "cell_type": "code",
   "execution_count": 42,
   "id": "enormous-signature",
   "metadata": {},
   "outputs": [
    {
     "data": {
      "text/plain": [
       "(10, 6)"
      ]
     },
     "execution_count": 42,
     "metadata": {},
     "output_type": "execute_result"
    }
   ],
   "source": [
    "(len(w), len(x))"
   ]
  },
  {
   "cell_type": "code",
   "execution_count": 43,
   "id": "strong-reliance",
   "metadata": {},
   "outputs": [
    {
     "data": {
      "text/plain": [
       "(10, 6)"
      ]
     },
     "execution_count": 43,
     "metadata": {},
     "output_type": "execute_result"
    }
   ],
   "source": [
    "r = H_gradient(x, w)\n",
    "r.shape"
   ]
  },
  {
   "cell_type": "code",
   "execution_count": 44,
   "id": "quick-chinese",
   "metadata": {},
   "outputs": [
    {
     "data": {
      "text/plain": [
       "array([[-1.06115900e-01-5.31839542e-02j, -1.00276224e-01-6.35121688e-02j,\n",
       "         3.07248116e-01-8.09465051e-01j,  3.86524856e-01-7.74747610e-01j,\n",
       "         1.00000000e+00+0.00000000e+00j,  0.00000000e+00+0.00000000e+00j],\n",
       "       [-4.26938990e-03-1.16980122e-03j, -3.37035023e-03-2.86999438e-03j,\n",
       "        -1.00323034e-03-7.76476646e-03j,  2.38439883e-03-7.45739276e-03j,\n",
       "         1.00000000e+00+0.00000000e+00j,  0.00000000e+00+0.00000000e+00j],\n",
       "       [-3.09479743e-04-1.00621073e-04j, -1.50430249e-04-2.88570678e-04j,\n",
       "        -1.20990866e-04-3.43423540e-04j,  1.54160633e-04-3.29868170e-04j,\n",
       "         1.00000000e+00+0.00000000e+00j,  0.00000000e+00+0.00000000e+00j],\n",
       "       [ 4.73390071e-04+1.65729914e-04j,  6.01306019e-05+4.97944653e-04j,\n",
       "         2.24936099e-04+3.88671731e-04j, -2.49556848e-04+3.73340794e-04j,\n",
       "         1.00000000e+00+0.00000000e+00j,  0.00000000e+00+0.00000000e+00j],\n",
       "       [ 6.86836487e-04+2.31668426e-04j, -1.48505293e-04+7.09479267e-04j,\n",
       "         3.71664617e-04+4.38354386e-04j, -3.91140027e-04+4.21068456e-04j,\n",
       "         1.00000000e+00+0.00000000e+00j,  0.00000000e+00+0.00000000e+00j],\n",
       "       [ 7.49497733e-04+2.21121139e-04j, -3.78655328e-04+6.83565391e-04j,\n",
       "         4.44539066e-04+3.68417794e-04j, -4.56187932e-04+3.53891548e-04j,\n",
       "         1.00000000e+00+0.00000000e+00j,  0.00000000e+00+0.00000000e+00j],\n",
       "       [ 7.66267942e-04+1.78911345e-04j, -5.56911691e-04+5.55900333e-04j,\n",
       "         4.84199816e-04+2.76013539e-04j, -4.90243023e-04+2.65131413e-04j,\n",
       "         1.00000000e+00+0.00000000e+00j,  0.00000000e+00+0.00000000e+00j],\n",
       "       [ 7.68955157e-04+1.23473917e-04j, -6.77137519e-04+3.84737068e-04j,\n",
       "         5.06325217e-04+1.81971700e-04j, -5.08846482e-04+1.74797533e-04j,\n",
       "         1.00000000e+00+0.00000000e+00j,  0.00000000e+00+0.00000000e+00j],\n",
       "       [ 7.68206606e-04+6.26750916e-05j, -7.45533209e-04+1.95575310e-04j,\n",
       "         5.17681066e-04+9.01472886e-05j, -5.18287416e-04+8.65933034e-05j,\n",
       "         1.00000000e+00+0.00000000e+00j,  0.00000000e+00+0.00000000e+00j],\n",
       "       [ 7.67661026e-04-1.62817173e-11j, -7.67661026e-04-5.08293407e-11j,\n",
       "         5.21190232e-04-2.32400488e-11j, -5.21190232e-04-2.23238494e-11j,\n",
       "         1.00000000e+00+0.00000000e+00j,  0.00000000e+00+0.00000000e+00j]])"
      ]
     },
     "execution_count": 44,
     "metadata": {},
     "output_type": "execute_result"
    }
   ],
   "source": [
    "r"
   ]
  },
  {
   "cell_type": "code",
   "execution_count": 58,
   "id": "thousand-joining",
   "metadata": {},
   "outputs": [
    {
     "name": "stdout",
     "output_type": "stream",
     "text": [
      "H0 [[0.00118652 0.00118652 0.00118652 0.00118652 0.00118652 0.00118652]\n",
      " [0.         0.         0.         0.         1.         0.        ]]\n",
      "stage [[[ 1.         -1.30265819  0.95975619 -1.95892877]\n",
      "  [ 1.         -1.30265819  0.95975619 -1.95892877]\n",
      "  [ 1.         -1.30265819  0.95975619 -1.95892877]\n",
      "  [ 1.         -1.30265819  0.95975619 -1.95892877]\n",
      "  [ 1.         -1.30265819  0.95975619 -1.95892877]\n",
      "  [ 1.         -1.30265819  0.95975619 -1.95892877]]\n",
      "\n",
      " [[ 1.          0.          0.          0.        ]\n",
      "  [ 0.          1.          0.          0.        ]\n",
      "  [ 0.          0.          1.          0.        ]\n",
      "  [ 0.          0.          0.          1.        ]\n",
      "  [ 0.          0.          0.          0.        ]\n",
      "  [ 0.          0.          0.          0.        ]]]\n"
     ]
    }
   ],
   "source": [
    "def _H_eval_al(c, w):\n",
    "    \"\"\" Evaluates the filter transfer function for each frequency in w.\n",
    "\n",
    "    Parameters\n",
    "    ----------\n",
    "     c: ndarray\n",
    "        list of all coefficients of all seconds order stages:\n",
    "        [a_01 a_11 b_01 b_11 ... b_0N b_1N H0]\n",
    "            \n",
    "    w : ndarray\n",
    "        frequency bins between 0 and 2π\n",
    "        \n",
    "    Returns\n",
    "    -------\n",
    "    \n",
    "    H: ndarray with dtype 'complex64'\n",
    "    \n",
    "    \"\"\"\n",
    "    \n",
    "    _H = 1\n",
    "    J = len(c) // 4    # number of 2nd order filter sections\n",
    "    H0 = c[J*4]        # H0 is the first element after the coefficients. \n",
    "    print('H0', H0)\n",
    "    for i in range(0, J*4, 4):\n",
    "        print('stage', c[i:i+4])\n",
    "        a0, a1, b0, b1 = c[i:i+4]\n",
    "        _H *= (a0 + a1*al.exp(1j*w) + al.exp(2*1j*w)) / (b0 + b1*al.exp(1j*w) + al.exp(2*1j*w))\n",
    "    return H0*_H\n",
    "#     return H0 * _H\n",
    "\n",
    "gradient_grid = al.UTPM.init_jacobian(x)\n",
    "y = _H_eval_al(gradient_grid, w=w)\n",
    "r_al = al.UTPM.extract_jacobian(y)"
   ]
  },
  {
   "cell_type": "code",
   "execution_count": 57,
   "id": "employed-stability",
   "metadata": {},
   "outputs": [
    {
     "data": {
      "text/plain": [
       "array([ -0.11461194 -0.03815796j,  -0.11022992 -0.04940944j,\n",
       "        -6.22645954 -5.7171176j ,  -5.62459384 -6.31016465j,\n",
       "       -63.85586668-28.62273865j,   0.         +0.j        ])"
      ]
     },
     "execution_count": 57,
     "metadata": {},
     "output_type": "execute_result"
    }
   ],
   "source": [
    "r_al[0]"
   ]
  },
  {
   "cell_type": "code",
   "execution_count": 59,
   "id": "vulnerable-criminal",
   "metadata": {},
   "outputs": [],
   "source": [
    "w.dtype = 'float64'"
   ]
  },
  {
   "cell_type": "code",
   "execution_count": 63,
   "id": "radio-norwegian",
   "metadata": {},
   "outputs": [
    {
     "data": {
      "text/plain": [
       "UTPM([[[ 1.00000000e+00 -1.30265819e+00  9.59756186e-01 -1.95892877e+00\n",
       "    1.18652453e-03  4.84774649e-01]\n",
       "  [ 1.00000000e+00 -1.30265819e+00  9.59756186e-01 -1.95892877e+00\n",
       "    1.18652453e-03  4.84774649e-01]\n",
       "  [ 1.00000000e+00 -1.30265819e+00  9.59756186e-01 -1.95892877e+00\n",
       "    1.18652453e-03  4.84774649e-01]\n",
       "  [ 1.00000000e+00 -1.30265819e+00  9.59756186e-01 -1.95892877e+00\n",
       "    1.18652453e-03  4.84774649e-01]\n",
       "  [ 1.00000000e+00 -1.30265819e+00  9.59756186e-01 -1.95892877e+00\n",
       "    1.18652453e-03  4.84774649e-01]\n",
       "  [ 1.00000000e+00 -1.30265819e+00  9.59756186e-01 -1.95892877e+00\n",
       "    1.18652453e-03  4.84774649e-01]]\n",
       "\n",
       " [[ 1.00000000e+00  0.00000000e+00  0.00000000e+00  0.00000000e+00\n",
       "    0.00000000e+00  0.00000000e+00]\n",
       "  [ 0.00000000e+00  1.00000000e+00  0.00000000e+00  0.00000000e+00\n",
       "    0.00000000e+00  0.00000000e+00]\n",
       "  [ 0.00000000e+00  0.00000000e+00  1.00000000e+00  0.00000000e+00\n",
       "    0.00000000e+00  0.00000000e+00]\n",
       "  [ 0.00000000e+00  0.00000000e+00  0.00000000e+00  1.00000000e+00\n",
       "    0.00000000e+00  0.00000000e+00]\n",
       "  [ 0.00000000e+00  0.00000000e+00  0.00000000e+00  0.00000000e+00\n",
       "    1.00000000e+00  0.00000000e+00]\n",
       "  [ 0.00000000e+00  0.00000000e+00  0.00000000e+00  0.00000000e+00\n",
       "    0.00000000e+00  1.00000000e+00]]])"
      ]
     },
     "execution_count": 63,
     "metadata": {},
     "output_type": "execute_result"
    }
   ],
   "source": [
    "gradient_grid"
   ]
  },
  {
   "cell_type": "code",
   "execution_count": 52,
   "id": "activated-foundation",
   "metadata": {},
   "outputs": [
    {
     "data": {
      "text/plain": [
       "array([-0.1061159 -0.05318395j, -0.10027622-0.06351217j,\n",
       "        0.30724812-0.80946505j,  0.38652486-0.77474761j,\n",
       "        1.        +0.j        ,  0.        +0.j        ])"
      ]
     },
     "execution_count": 52,
     "metadata": {},
     "output_type": "execute_result"
    }
   ],
   "source": [
    "r[0]"
   ]
  },
  {
   "cell_type": "code",
   "execution_count": 53,
   "id": "animal-pointer",
   "metadata": {},
   "outputs": [
    {
     "data": {
      "text/plain": [
       "array([ -0.11461194 -0.03815796j,  -0.11022992 -0.04940944j,\n",
       "        -6.22645954 -5.7171176j ,  -5.62459384 -6.31016465j,\n",
       "       -63.85586668-28.62273865j,   0.         +0.j        ])"
      ]
     },
     "execution_count": 53,
     "metadata": {},
     "output_type": "execute_result"
    }
   ],
   "source": [
    "r_al[0]"
   ]
  },
  {
   "cell_type": "code",
   "execution_count": null,
   "id": "scientific-camping",
   "metadata": {},
   "outputs": [],
   "source": []
  }
 ],
 "metadata": {
  "kernelspec": {
   "display_name": "Python 3",
   "language": "python",
   "name": "python3"
  },
  "language_info": {
   "codemirror_mode": {
    "name": "ipython",
    "version": 3
   },
   "file_extension": ".py",
   "mimetype": "text/x-python",
   "name": "python",
   "nbconvert_exporter": "python",
   "pygments_lexer": "ipython3",
   "version": "3.9.0"
  }
 },
 "nbformat": 4,
 "nbformat_minor": 5
}
