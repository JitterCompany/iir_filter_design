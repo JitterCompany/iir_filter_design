{
 "cells": [
  {
   "cell_type": "markdown",
   "id": "russian-person",
   "metadata": {},
   "source": [
    "# Biquad transfer function (Second order stages)\n",
    "\n",
    "A second order systen (sos), a recursive linear filter is often represented as\n",
    "\n",
    "$$ H(z) = \\frac{N(z)}{D(z)} = \\frac{b_{0} + b_{1}z^{-1} + b_{2}z^{-2}}{a_{0} + a_{1}z^{-1} + a_{2}z^{-2}}, $$\n",
    "\n",
    "With $N(z)$ and $D(z)$ the numerator and denominator respectively. For example on the Wikipedia page [Digital biquad filter](https://en.wikipedia.org/wiki/Digital_biquad_filter). A digital filter may consist of multiple of these second order stages.\n",
    "\n",
    "However, sometimes (e.g. [1] both $N(z)$ and $D(z)$ are multiplied by $z^2$\n",
    "\n",
    "$$ H(z) = \\frac{a_{0} + a_{1}z + a_{2}z^2}{b_{0} + b_{1}z + b_{2}z^2}, $$\n",
    "\n",
    "\n",
    "We know that $b_2$ is always 1 and we can make $a_2$ 1 by taking $H = a_2$ and multiplying the numerator with $\\frac{1}{a_2}$. \n",
    "\n",
    "$$ H(z) = H \\frac{a_{0} + a_{1}z + z^2}{b_{0} + b_{1}z + z^2}, $$\n",
    "\n",
    "Cascading $J$ of these second-order stages will result in the total transfer function\n",
    "\n",
    "$$ H(\\mathbf{c}, z)  = H_0 \\prod^J_{m=1}\\frac{a_{0m} + a_{1m}z + z^2}{b_{0m} + b_{1m}z + z^2}, $$\n",
    "\n",
    "\n",
    "with filter coefficients $$ \\mathbf{c} = [a_{01} \\; a_{11} \\; b_{01} \\; b_{11} \\; \\dots  \\; b_{0J} \\; b_{1J} \\; H_0]^T. $$\n",
    "\n",
    "And with $H_0 = \\prod^J_{m=1} H_m$\n",
    "\n",
    "\n",
    "\n",
    "[1]: Andreas Antoniou - Digital Filters: Analysis, Design, and Signal Processing Applications\n",
    "\n",
    "\n",
    "Let's use scipy.signal to generate a lowpass iir filter with a single second order stage:"
   ]
  },
  {
   "cell_type": "code",
   "execution_count": 1,
   "id": "rotary-offset",
   "metadata": {},
   "outputs": [],
   "source": [
    "from scipy import signal\n",
    "filt = signal.iirfilter(2, 100, btype='low',\n",
    "                       analog=False, rs=60, rp=0.01,\n",
    "                        ftype='ellip', fs=1000,output='sos')"
   ]
  },
  {
   "cell_type": "code",
   "execution_count": 2,
   "id": "laughing-stick",
   "metadata": {},
   "outputs": [
    {
     "name": "stdout",
     "output_type": "stream",
     "text": [
      "[[0.31018857 0.61926624 0.31018857 1.         0.05679353 0.18427788]]\n"
     ]
    }
   ],
   "source": [
    "print(filt)"
   ]
  },
  {
   "cell_type": "markdown",
   "id": "otherwise-wheel",
   "metadata": {},
   "source": [
    "But which coefficients are which? We can wrap it in a named tuple"
   ]
  },
  {
   "cell_type": "code",
   "execution_count": 3,
   "id": "equipped-healthcare",
   "metadata": {},
   "outputs": [],
   "source": [
    "from collections import namedtuple\n",
    "StandardSOS = namedtuple('StandardSOS',\n",
    "        ['b0', 'b1', 'b2','a0', 'a1', 'a2'])"
   ]
  },
  {
   "cell_type": "code",
   "execution_count": 4,
   "id": "cathedral-title",
   "metadata": {},
   "outputs": [
    {
     "data": {
      "text/plain": [
       "StandardSOS(b0=0.31018857356059193, b1=0.6192662419329938, b2=0.3101885735605919, a0=1.0, a1=0.05679352648032663, a2=0.18427787664122666)"
      ]
     },
     "execution_count": 4,
     "metadata": {},
     "output_type": "execute_result"
    }
   ],
   "source": [
    "sos = StandardSOS(*filt[0])\n",
    "sos"
   ]
  },
  {
   "cell_type": "code",
   "execution_count": 15,
   "id": "southern-tennis",
   "metadata": {},
   "outputs": [],
   "source": [
    "import numpy as np\n",
    "\n",
    "def dsp2antoniou(c):\n",
    "    \"\"\" Translates second order filter sections from DSP-convention\n",
    "    format (StandardSOS) to optimized Antoniou format.\n",
    "    \n",
    "    parameters\n",
    "    ----------\n",
    "    \n",
    "    c: arraylike\n",
    "        Second order stage with the following order:\n",
    "        \n",
    "        [b0, b1, b2, a0, a1, a2] such that\n",
    "        \n",
    "           b0 + b1*z^-1 + b2*z^-2\n",
    "    H(z) = ----------------------\n",
    "           1  + a1*z^-1 + a2*z^-2\n",
    "            \n",
    "    returns\n",
    "    -------\n",
    "    \n",
    "    (coeffs, H): tuple\n",
    "        coefs = [a0, a1, b1, b2] and H the multiplier such that\n",
    "        \n",
    "              a0 + a1z + z^2\n",
    "    H(z) = H  --------------\n",
    "              b0 + b1z + z^2\n",
    "        \n",
    "    \"\"\"\n",
    "    \n",
    "    c = StandardSOS(*c)\n",
    "\n",
    "    H = c.b0\n",
    "    # numerator\n",
    "    a0 = c.b2 / H\n",
    "    a1 = c.b1 / H\n",
    "    # a2 = c.b0 / c.b0 = 1\n",
    "    \n",
    "    # denominator\n",
    "    b0 = c.a2\n",
    "    b1 = c.a1\n",
    "    # b2 = c.a0 = 1\n",
    "    \n",
    "    return [a0, a1, b0, b1], H\n",
    "\n",
    "\n",
    "def simplify_biquad_filters(system):\n",
    "    \"\"\"\n",
    "    Converts array of N standard second order stages (SOS) such as generated by scipy.signal into\n",
    "    optimized filter coefficient format.\n",
    "    \n",
    "    parameters\n",
    "    ----------\n",
    "    \n",
    "    system: list of standard format sos\n",
    "            \n",
    "            [[b0, b1, b2, a0, a1, a2], [b0, b1, b2, a0, a1, a2], ... ]\n",
    "    \n",
    "    returns\n",
    "    -------\n",
    "    \n",
    "    coeffs: ndarray\n",
    "        [a_01 a_11 b_01 b_11 ... b_0N b_1N H0]\n",
    "        \n",
    "    Where a_01 a_11 b_01 b_11 are the coefficients for stage 1 and a_02 a_12 b_02 b_12 for stage 2, etc. \n",
    "\n",
    "    \n",
    "                  N   a0j + a1jz + z^2\n",
    "    H(c, z) = H0  ∏   ----------------, \n",
    "                 j=0  b0j + b1jz + z^2\n",
    "                 \n",
    "    for j = range(1, N)\n",
    "        \n",
    "    \"\"\"\n",
    "    a = [dsp2antoniou(sos) for sos in system]\n",
    "    coeffs, Hm = list(zip(*a))\n",
    "    print(Hm)\n",
    "    H0 = np.product(Hm)\n",
    "    return np.r_[np.concatenate(coeffs), H0]"
   ]
  },
  {
   "cell_type": "code",
   "execution_count": 93,
   "id": "whole-mailing",
   "metadata": {},
   "outputs": [
    {
     "data": {
      "text/plain": [
       "([1.0000000000000002,\n",
       "  0.8730113243817196,\n",
       "  0.4807911839677346,\n",
       "  -1.3599112704531684],\n",
       " 0.0025610472568130785)"
      ]
     },
     "execution_count": 93,
     "metadata": {},
     "output_type": "execute_result"
    }
   ],
   "source": [
    "dsp2antoniou(sos)"
   ]
  },
  {
   "cell_type": "code",
   "execution_count": 9,
   "id": "short-witness",
   "metadata": {},
   "outputs": [
    {
     "data": {
      "text/plain": [
       "array([[ 3.75305631e-05,  3.75305631e-05,  0.00000000e+00,\n",
       "         1.00000000e+00, -9.94497315e-01,  0.00000000e+00],\n",
       "       [ 1.00000000e+00, -1.99931626e+00,  1.00000000e+00,\n",
       "         1.00000000e+00, -1.99181886e+00,  9.91861638e-01],\n",
       "       [ 1.00000000e+00, -1.99972615e+00,  1.00000000e+00,\n",
       "         1.00000000e+00, -1.99721455e+00,  9.97274263e-01]])"
      ]
     },
     "execution_count": 9,
     "metadata": {},
     "output_type": "execute_result"
    }
   ],
   "source": [
    "filt = signal.iirfilter(5, 1, btype='low',\n",
    "                       analog=False, rs=60, rp=0.01,\n",
    "                        ftype='ellip', fs=1000,output='sos')\n",
    "filt"
   ]
  },
  {
   "cell_type": "code",
   "execution_count": 14,
   "id": "developed-quality",
   "metadata": {},
   "outputs": [
    {
     "name": "stdout",
     "output_type": "stream",
     "text": [
      "(3.753056310358706e-05, 1.0, 1.0)\n"
     ]
    },
    {
     "ename": "ValueError",
     "evalue": "all the input array dimensions for the concatenation axis must match exactly, but along dimension 0, the array at index 0 has size 12 and the array at index 1 has size 1",
     "output_type": "error",
     "traceback": [
      "\u001b[0;31m-----------------------------------------------------------------------\u001b[0m",
      "\u001b[0;31mValueError\u001b[0m                            Traceback (most recent call last)",
      "\u001b[0;32m<ipython-input-14-633b87cbb8ce>\u001b[0m in \u001b[0;36m<module>\u001b[0;34m\u001b[0m\n\u001b[0;32m----> 1\u001b[0;31m \u001b[0msimplify_biquad_filters\u001b[0m\u001b[0;34m(\u001b[0m\u001b[0mfilt\u001b[0m\u001b[0;34m)\u001b[0m\u001b[0;34m\u001b[0m\u001b[0;34m\u001b[0m\u001b[0m\n\u001b[0m",
      "\u001b[0;32m<ipython-input-13-3edfc73e3c48>\u001b[0m in \u001b[0;36msimplify_biquad_filters\u001b[0;34m(system)\u001b[0m\n\u001b[1;32m     77\u001b[0m     \u001b[0mprint\u001b[0m\u001b[0;34m(\u001b[0m\u001b[0mHm\u001b[0m\u001b[0;34m)\u001b[0m\u001b[0;34m\u001b[0m\u001b[0;34m\u001b[0m\u001b[0m\n\u001b[1;32m     78\u001b[0m     \u001b[0mH0\u001b[0m \u001b[0;34m=\u001b[0m \u001b[0mnp\u001b[0m\u001b[0;34m.\u001b[0m\u001b[0mproduct\u001b[0m\u001b[0;34m(\u001b[0m\u001b[0mHm\u001b[0m\u001b[0;34m)\u001b[0m\u001b[0;34m\u001b[0m\u001b[0;34m\u001b[0m\u001b[0m\n\u001b[0;32m---> 79\u001b[0;31m     \u001b[0;32mreturn\u001b[0m \u001b[0mnp\u001b[0m\u001b[0;34m.\u001b[0m\u001b[0mc_\u001b[0m\u001b[0;34m[\u001b[0m\u001b[0mnp\u001b[0m\u001b[0;34m.\u001b[0m\u001b[0mconcatenate\u001b[0m\u001b[0;34m(\u001b[0m\u001b[0mcoeffs\u001b[0m\u001b[0;34m)\u001b[0m\u001b[0;34m,\u001b[0m \u001b[0mH0\u001b[0m\u001b[0;34m]\u001b[0m\u001b[0;34m.\u001b[0m\u001b[0mT\u001b[0m\u001b[0;34m\u001b[0m\u001b[0;34m\u001b[0m\u001b[0m\n\u001b[0m",
      "\u001b[0;32m~/.local/share/virtualenvs/filter_design_2021-9KhhNNV_/lib/python3.9/site-packages/numpy/lib/index_tricks.py\u001b[0m in \u001b[0;36m__getitem__\u001b[0;34m(self, key)\u001b[0m\n\u001b[1;32m    405\u001b[0m                 \u001b[0mobjs\u001b[0m\u001b[0;34m[\u001b[0m\u001b[0mk\u001b[0m\u001b[0;34m]\u001b[0m \u001b[0;34m=\u001b[0m \u001b[0mobjs\u001b[0m\u001b[0;34m[\u001b[0m\u001b[0mk\u001b[0m\u001b[0;34m]\u001b[0m\u001b[0;34m.\u001b[0m\u001b[0mastype\u001b[0m\u001b[0;34m(\u001b[0m\u001b[0mfinal_dtype\u001b[0m\u001b[0;34m)\u001b[0m\u001b[0;34m\u001b[0m\u001b[0;34m\u001b[0m\u001b[0m\n\u001b[1;32m    406\u001b[0m \u001b[0;34m\u001b[0m\u001b[0m\n\u001b[0;32m--> 407\u001b[0;31m         \u001b[0mres\u001b[0m \u001b[0;34m=\u001b[0m \u001b[0mself\u001b[0m\u001b[0;34m.\u001b[0m\u001b[0mconcatenate\u001b[0m\u001b[0;34m(\u001b[0m\u001b[0mtuple\u001b[0m\u001b[0;34m(\u001b[0m\u001b[0mobjs\u001b[0m\u001b[0;34m)\u001b[0m\u001b[0;34m,\u001b[0m \u001b[0maxis\u001b[0m\u001b[0;34m=\u001b[0m\u001b[0maxis\u001b[0m\u001b[0;34m)\u001b[0m\u001b[0;34m\u001b[0m\u001b[0;34m\u001b[0m\u001b[0m\n\u001b[0m\u001b[1;32m    408\u001b[0m \u001b[0;34m\u001b[0m\u001b[0m\n\u001b[1;32m    409\u001b[0m         \u001b[0;32mif\u001b[0m \u001b[0mmatrix\u001b[0m\u001b[0;34m:\u001b[0m\u001b[0;34m\u001b[0m\u001b[0;34m\u001b[0m\u001b[0m\n",
      "\u001b[0;32m<__array_function__ internals>\u001b[0m in \u001b[0;36mconcatenate\u001b[0;34m(*args, **kwargs)\u001b[0m\n",
      "\u001b[0;31mValueError\u001b[0m: all the input array dimensions for the concatenation axis must match exactly, but along dimension 0, the array at index 0 has size 12 and the array at index 1 has size 1"
     ]
    }
   ],
   "source": [
    "simplify_biquad_filters(filt)"
   ]
  },
  {
   "cell_type": "code",
   "execution_count": 106,
   "id": "opposed-eight",
   "metadata": {},
   "outputs": [
    {
     "data": {
      "text/plain": [
       "\u001b[0;31mSignature:\u001b[0m \u001b[0mnp\u001b[0m\u001b[0;34m.\u001b[0m\u001b[0mpoly\u001b[0m\u001b[0;34m(\u001b[0m\u001b[0mseq_of_zeros\u001b[0m\u001b[0;34m)\u001b[0m\u001b[0;34m\u001b[0m\u001b[0;34m\u001b[0m\u001b[0m\n",
       "\u001b[0;31mDocstring:\u001b[0m\n",
       "Find the coefficients of a polynomial with the given sequence of roots.\n",
       "\n",
       ".. note::\n",
       "   This forms part of the old polynomial API. Since version 1.4, the\n",
       "   new polynomial API defined in `numpy.polynomial` is preferred.\n",
       "   A summary of the differences can be found in the\n",
       "   :doc:`transition guide </reference/routines.polynomials>`.\n",
       "\n",
       "Returns the coefficients of the polynomial whose leading coefficient\n",
       "is one for the given sequence of zeros (multiple roots must be included\n",
       "in the sequence as many times as their multiplicity; see Examples).\n",
       "A square matrix (or array, which will be treated as a matrix) can also\n",
       "be given, in which case the coefficients of the characteristic polynomial\n",
       "of the matrix are returned.\n",
       "\n",
       "Parameters\n",
       "----------\n",
       "seq_of_zeros : array_like, shape (N,) or (N, N)\n",
       "    A sequence of polynomial roots, or a square array or matrix object.\n",
       "\n",
       "Returns\n",
       "-------\n",
       "c : ndarray\n",
       "    1D array of polynomial coefficients from highest to lowest degree:\n",
       "\n",
       "    ``c[0] * x**(N) + c[1] * x**(N-1) + ... + c[N-1] * x + c[N]``\n",
       "    where c[0] always equals 1.\n",
       "\n",
       "Raises\n",
       "------\n",
       "ValueError\n",
       "    If input is the wrong shape (the input must be a 1-D or square\n",
       "    2-D array).\n",
       "\n",
       "See Also\n",
       "--------\n",
       "polyval : Compute polynomial values.\n",
       "roots : Return the roots of a polynomial.\n",
       "polyfit : Least squares polynomial fit.\n",
       "poly1d : A one-dimensional polynomial class.\n",
       "\n",
       "Notes\n",
       "-----\n",
       "Specifying the roots of a polynomial still leaves one degree of\n",
       "freedom, typically represented by an undetermined leading\n",
       "coefficient. [1]_ In the case of this function, that coefficient -\n",
       "the first one in the returned array - is always taken as one. (If\n",
       "for some reason you have one other point, the only automatic way\n",
       "presently to leverage that information is to use ``polyfit``.)\n",
       "\n",
       "The characteristic polynomial, :math:`p_a(t)`, of an `n`-by-`n`\n",
       "matrix **A** is given by\n",
       "\n",
       "    :math:`p_a(t) = \\mathrm{det}(t\\, \\mathbf{I} - \\mathbf{A})`,\n",
       "\n",
       "where **I** is the `n`-by-`n` identity matrix. [2]_\n",
       "\n",
       "References\n",
       "----------\n",
       ".. [1] M. Sullivan and M. Sullivan, III, \"Algebra and Trignometry,\n",
       "   Enhanced With Graphing Utilities,\" Prentice-Hall, pg. 318, 1996.\n",
       "\n",
       ".. [2] G. Strang, \"Linear Algebra and Its Applications, 2nd Edition,\"\n",
       "   Academic Press, pg. 182, 1980.\n",
       "\n",
       "Examples\n",
       "--------\n",
       "Given a sequence of a polynomial's zeros:\n",
       "\n",
       ">>> np.poly((0, 0, 0)) # Multiple root example\n",
       "array([1., 0., 0., 0.])\n",
       "\n",
       "The line above represents z**3 + 0*z**2 + 0*z + 0.\n",
       "\n",
       ">>> np.poly((-1./2, 0, 1./2))\n",
       "array([ 1.  ,  0.  , -0.25,  0.  ])\n",
       "\n",
       "The line above represents z**3 - z/4\n",
       "\n",
       ">>> np.poly((np.random.random(1)[0], 0, np.random.random(1)[0]))\n",
       "array([ 1.        , -0.77086955,  0.08618131,  0.        ]) # random\n",
       "\n",
       "Given a square array object:\n",
       "\n",
       ">>> P = np.array([[0, 1./3], [-1./2, 0]])\n",
       ">>> np.poly(P)\n",
       "array([1.        , 0.        , 0.16666667])\n",
       "\n",
       "Note how in all cases the leading coefficient is always 1.\n",
       "\u001b[0;31mFile:\u001b[0m      ~/.local/share/virtualenvs/filter_design_2021-9KhhNNV_/lib/python3.9/site-packages/numpy/lib/polynomial.py\n",
       "\u001b[0;31mType:\u001b[0m      function\n"
      ]
     },
     "metadata": {},
     "output_type": "display_data"
    }
   ],
   "source": [
    "np.poly?"
   ]
  },
  {
   "cell_type": "code",
   "execution_count": 108,
   "id": "temporal-moderator",
   "metadata": {},
   "outputs": [
    {
     "data": {
      "text/plain": [
       "array([ 1., -1.])"
      ]
     },
     "execution_count": 108,
     "metadata": {},
     "output_type": "execute_result"
    }
   ],
   "source": [
    "np.poly(np.array([1]))"
   ]
  },
  {
   "cell_type": "code",
   "execution_count": null,
   "id": "hourly-extent",
   "metadata": {},
   "outputs": [],
   "source": []
  }
 ],
 "metadata": {
  "kernelspec": {
   "display_name": "Python 3",
   "language": "python",
   "name": "python3"
  },
  "language_info": {
   "codemirror_mode": {
    "name": "ipython",
    "version": 3
   },
   "file_extension": ".py",
   "mimetype": "text/x-python",
   "name": "python",
   "nbconvert_exporter": "python",
   "pygments_lexer": "ipython3",
   "version": "3.9.0"
  }
 },
 "nbformat": 4,
 "nbformat_minor": 5
}
