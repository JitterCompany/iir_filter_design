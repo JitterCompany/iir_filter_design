{
 "cells": [
  {
   "cell_type": "markdown",
   "id": "extreme-census",
   "metadata": {},
   "source": [
    "# Stability Constraints\n",
    "$$ b_{0j} \\le 1 - \\gamma $$\n",
    "$$ b_{1j} - b_{0j} \\le 1 - \\gamma $$\n",
    "$$ - b_{1j} \\le 1 - \\gamma $$\n",
    "\n",
    "With \n",
    "\n",
    "$$ \\gamma = 1 - (1 - \\epsilon_s)^2 $$\n",
    "\n",
    "\n",
    "$$ \\mathbf{B}\\delta \\lt \\mathbf{b}^{(k)} $$"
   ]
  },
  {
   "cell_type": "code",
   "execution_count": 1,
   "id": "tutorial-reply",
   "metadata": {},
   "outputs": [],
   "source": [
    "from scipy import signal\n",
    "import numpy as np\n",
    "import matplotlib.pyplot as plt\n",
    "\n",
    "\n",
    "plt.rcParams['figure.figsize'] = (20, 8)\n",
    "plt.rcParams['axes.grid'] = True\n",
    "                                  \n",
    "                                  \n",
    "from dsp import simplify_biquad_filters\n",
    "import dsp"
   ]
  },
  {
   "cell_type": "code",
   "execution_count": 2,
   "id": "juvenile-stretch",
   "metadata": {},
   "outputs": [],
   "source": [
    "sos = signal.iirfilter(4, 0.2, rs=60, btype='lowpass',\n",
    "                       analog=False, ftype='cheby2',\n",
    "                       output='sos')\n",
    "c = simplify_biquad_filters(sos)"
   ]
  },
  {
   "cell_type": "code",
   "execution_count": 3,
   "id": "standing-category",
   "metadata": {},
   "outputs": [
    {
     "data": {
      "text/plain": [
       "array([ 1.00000000e+00, -3.24370246e-01,  6.95736399e-01, -1.66300199e+00,\n",
       "        1.00000000e+00, -1.55971254e+00,  8.69492908e-01, -1.83559567e+00,\n",
       "        1.50402320e-03])"
      ]
     },
     "execution_count": 3,
     "metadata": {},
     "output_type": "execute_result"
    }
   ],
   "source": [
    "c"
   ]
  },
  {
   "cell_type": "code",
   "execution_count": 6,
   "id": "burning-fields",
   "metadata": {},
   "outputs": [
    {
     "data": {
      "text/plain": [
       "2"
      ]
     },
     "execution_count": 6,
     "metadata": {},
     "output_type": "execute_result"
    }
   ],
   "source": [
    "len(c) // 4"
   ]
  },
  {
   "cell_type": "code",
   "execution_count": 7,
   "id": "cordless-japanese",
   "metadata": {},
   "outputs": [],
   "source": [
    "r_max = 0.98"
   ]
  },
  {
   "cell_type": "code",
   "execution_count": 8,
   "id": "seeing-sheffield",
   "metadata": {},
   "outputs": [],
   "source": [
    "epsilon_s = 1 - r_max\n",
    "b = []\n",
    "J = len(c) // 4 # number of filter stages\n",
    "for i in range(0, J*4, 4):\n",
    "    a0, a1, b0, b1 = c[i:i+4]\n",
    "    b_ = np.c_[(1-epsilon_s)-b0, \n",
    "            (1-epsilon_s)-b1+b0, \n",
    "            (1-epsilon_s)+b1+b0].T\n",
    "    b.append(b_)\n",
    "b = np.vstack(b)\n",
    "\n",
    "width = 2*J + 2\n",
    "height = 3*J\n",
    "B = np.zeros((height,width))\n",
    "# B = np.zeros((J*3,J*5))\n",
    "beta = np.array([[1, 0], [-1, 1], [-1, -1]])\n",
    "\n",
    "for i in range(J):\n",
    "    x = 2*i\n",
    "    y = i*3\n",
    "    B[y:y+3, x:x+2] = beta"
   ]
  },
  {
   "cell_type": "code",
   "execution_count": 9,
   "id": "loose-warren",
   "metadata": {},
   "outputs": [
    {
     "data": {
      "text/plain": [
       "array([[0.2842636 ],\n",
       "       [3.33873839],\n",
       "       [0.01273441],\n",
       "       [0.11050709],\n",
       "       [3.68508857],\n",
       "       [0.01389724]])"
      ]
     },
     "execution_count": 9,
     "metadata": {},
     "output_type": "execute_result"
    }
   ],
   "source": [
    "b"
   ]
  },
  {
   "cell_type": "code",
   "execution_count": 10,
   "id": "established-deviation",
   "metadata": {},
   "outputs": [
    {
     "data": {
      "text/plain": [
       "array([[ 1.,  0.,  0.,  0.,  0.,  0.],\n",
       "       [-1.,  1.,  0.,  0.,  0.,  0.],\n",
       "       [-1., -1.,  0.,  0.,  0.,  0.],\n",
       "       [ 0.,  0.,  1.,  0.,  0.,  0.],\n",
       "       [ 0.,  0., -1.,  1.,  0.,  0.],\n",
       "       [ 0.,  0., -1., -1.,  0.,  0.]])"
      ]
     },
     "execution_count": 10,
     "metadata": {},
     "output_type": "execute_result"
    }
   ],
   "source": [
    "B"
   ]
  },
  {
   "cell_type": "code",
   "execution_count": 11,
   "id": "distant-penguin",
   "metadata": {},
   "outputs": [
    {
     "data": {
      "text/plain": [
       "array([[ 0.2842636 ],\n",
       "       [ 3.05447479],\n",
       "       [-3.62300199],\n",
       "       [ 0.01273441],\n",
       "       [ 0.09777268],\n",
       "       [-0.12324151]])"
      ]
     },
     "execution_count": 11,
     "metadata": {},
     "output_type": "execute_result"
    }
   ],
   "source": [
    "np.matmul(B, b)"
   ]
  },
  {
   "cell_type": "code",
   "execution_count": 12,
   "id": "radical-istanbul",
   "metadata": {},
   "outputs": [],
   "source": [
    "beta = np.array([[1, 0], [-1, 1], [-1, -1]])"
   ]
  },
  {
   "cell_type": "code",
   "execution_count": 13,
   "id": "humanitarian-format",
   "metadata": {},
   "outputs": [
    {
     "data": {
      "text/plain": [
       "array([[ 1,  0],\n",
       "       [-1,  1],\n",
       "       [-1, -1]])"
      ]
     },
     "execution_count": 13,
     "metadata": {},
     "output_type": "execute_result"
    }
   ],
   "source": [
    "beta"
   ]
  },
  {
   "cell_type": "code",
   "execution_count": null,
   "id": "gothic-skating",
   "metadata": {},
   "outputs": [],
   "source": []
  },
  {
   "cell_type": "code",
   "execution_count": 14,
   "id": "irish-hands",
   "metadata": {},
   "outputs": [
    {
     "data": {
      "text/plain": [
       "array([[ 1.,  0.,  0.,  0.,  0.,  0.],\n",
       "       [-1.,  1.,  0.,  0.,  0.,  0.],\n",
       "       [-1., -1.,  0.,  0.,  0.,  0.],\n",
       "       [ 0.,  0.,  1.,  0.,  0.,  0.],\n",
       "       [ 0.,  0., -1.,  1.,  0.,  0.],\n",
       "       [ 0.,  0., -1., -1.,  0.,  0.]])"
      ]
     },
     "execution_count": 14,
     "metadata": {},
     "output_type": "execute_result"
    }
   ],
   "source": [
    "B"
   ]
  },
  {
   "cell_type": "markdown",
   "id": "computational-budapest",
   "metadata": {},
   "source": [
    "# Passband Constraints\n",
    "\n",
    "The desired magnitude response in the passband = 1. This means we want to keep the deviation from the realised magnitude response close to 1 with a maximum error of $\\Gamma{pb}$\n",
    "\n",
    "\n",
    "$$ \\mathbf{E}^{(pbe)}  = ||\\mathbf{D}^{(pbe)} \\boldsymbol{ \\delta } +  \\mathbf{d}^{(pbe)}  || $$"
   ]
  },
  {
   "cell_type": "code",
   "execution_count": 3,
   "id": "assumed-broadcasting",
   "metadata": {},
   "outputs": [],
   "source": [
    "import gradients"
   ]
  },
  {
   "cell_type": "code",
   "execution_count": 4,
   "id": "challenging-invitation",
   "metadata": {},
   "outputs": [
    {
     "name": "stderr",
     "output_type": "stream",
     "text": [
      "WARNING:absl:No GPU/TPU found, falling back to CPU. (Set TF_CPP_MIN_LOG_LEVEL=0 and rerun for more info.)\n"
     ]
    }
   ],
   "source": [
    "w = np.arange(0, np.pi, 0.1)\n",
    "x = dsp.add_tau(c, w)\n",
    "D = gradients.H_mag_squared_gradient(x, w)"
   ]
  },
  {
   "cell_type": "code",
   "execution_count": 5,
   "id": "removed-relief",
   "metadata": {},
   "outputs": [],
   "source": [
    "d = dsp.H_mag_squared(x, w)"
   ]
  },
  {
   "cell_type": "code",
   "execution_count": 6,
   "id": "classified-laptop",
   "metadata": {},
   "outputs": [],
   "source": [
    "delta = np.ones(D.shape[1])"
   ]
  },
  {
   "cell_type": "code",
   "execution_count": 7,
   "id": "accredited-theology",
   "metadata": {},
   "outputs": [
    {
     "data": {
      "text/plain": [
       "array([1.10203845e+03, 1.15299105e+03, 5.38093884e+02, 2.54149460e+01,\n",
       "       1.54357092e+00, 1.12860330e-01, 5.10898923e-03, 1.23550515e-04,\n",
       "       1.15854744e-03, 1.28672502e-03, 9.18359094e-04, 5.07367553e-04,\n",
       "       2.11645733e-04, 5.08516132e-05, 2.63134826e-07, 2.78457856e-05,\n",
       "       1.06024823e-04, 2.14008887e-04, 3.37081718e-04, 4.65212526e-04,\n",
       "       5.91755228e-04, 7.12421380e-04, 8.24530465e-04, 9.26476702e-04,\n",
       "       1.01736261e-03, 1.09674262e-03, 1.16445136e-03, 1.22048777e-03,\n",
       "       1.26493200e-03, 1.29789689e-03, 1.31949081e-03, 1.32979425e-03])"
      ]
     },
     "execution_count": 7,
     "metadata": {},
     "output_type": "execute_result"
    }
   ],
   "source": [
    "np.matmul(D, delta) + d"
   ]
  },
  {
   "cell_type": "markdown",
   "id": "expected-nepal",
   "metadata": {},
   "source": [
    "# Stopband constraints"
   ]
  },
  {
   "cell_type": "code",
   "execution_count": 8,
   "id": "constant-lawyer",
   "metadata": {},
   "outputs": [
    {
     "ename": "TypeError",
     "evalue": "jacrev requires real-valued outputs (output dtype that is a sub-dtype of np.floating), but got complex64. For holomorphic differentiation, pass holomorphic=True. For differentiation of non-holomorphic functions involving complex outputs, or function with integer outputs, use jax.vjp directly.",
     "output_type": "error",
     "traceback": [
      "\u001b[0;31m---------------------------------------------------------------------------\u001b[0m",
      "\u001b[0;31mTypeError\u001b[0m                                 Traceback (most recent call last)",
      "\u001b[0;32m<ipython-input-8-a585cd4a780c>\u001b[0m in \u001b[0;36m<module>\u001b[0;34m\u001b[0m\n\u001b[0;32m----> 1\u001b[0;31m \u001b[0mgradients\u001b[0m\u001b[0;34m.\u001b[0m\u001b[0mH_gradient\u001b[0m\u001b[0;34m(\u001b[0m\u001b[0mx\u001b[0m\u001b[0;34m,\u001b[0m \u001b[0mw\u001b[0m\u001b[0;34m)\u001b[0m\u001b[0;34m\u001b[0m\u001b[0;34m\u001b[0m\u001b[0m\n\u001b[0m",
      "\u001b[0;32m~/.local/share/virtualenvs/filter_design_2021-9KhhNNV_/lib/python3.9/site-packages/jax/api.py\u001b[0m in \u001b[0;36mjacfun\u001b[0;34m(*args, **kwargs)\u001b[0m\n\u001b[1;32m    968\u001b[0m     \u001b[0mtree_map\u001b[0m\u001b[0;34m(\u001b[0m\u001b[0mpartial\u001b[0m\u001b[0;34m(\u001b[0m\u001b[0m_check_input_dtype_jacrev\u001b[0m\u001b[0;34m,\u001b[0m \u001b[0mholomorphic\u001b[0m\u001b[0;34m,\u001b[0m \u001b[0mallow_int\u001b[0m\u001b[0;34m)\u001b[0m\u001b[0;34m,\u001b[0m \u001b[0mdyn_args\u001b[0m\u001b[0;34m)\u001b[0m\u001b[0;34m\u001b[0m\u001b[0;34m\u001b[0m\u001b[0m\n\u001b[1;32m    969\u001b[0m     \u001b[0my\u001b[0m\u001b[0;34m,\u001b[0m \u001b[0mpullback\u001b[0m \u001b[0;34m=\u001b[0m \u001b[0m_vjp\u001b[0m\u001b[0;34m(\u001b[0m\u001b[0mf_partial\u001b[0m\u001b[0;34m,\u001b[0m \u001b[0;34m*\u001b[0m\u001b[0mdyn_args\u001b[0m\u001b[0;34m)\u001b[0m\u001b[0;34m\u001b[0m\u001b[0;34m\u001b[0m\u001b[0m\n\u001b[0;32m--> 970\u001b[0;31m     \u001b[0mtree_map\u001b[0m\u001b[0;34m(\u001b[0m\u001b[0mpartial\u001b[0m\u001b[0;34m(\u001b[0m\u001b[0m_check_output_dtype_jacrev\u001b[0m\u001b[0;34m,\u001b[0m \u001b[0mholomorphic\u001b[0m\u001b[0;34m)\u001b[0m\u001b[0;34m,\u001b[0m \u001b[0my\u001b[0m\u001b[0;34m)\u001b[0m\u001b[0;34m\u001b[0m\u001b[0;34m\u001b[0m\u001b[0m\n\u001b[0m\u001b[1;32m    971\u001b[0m     \u001b[0mjac\u001b[0m \u001b[0;34m=\u001b[0m \u001b[0mvmap\u001b[0m\u001b[0;34m(\u001b[0m\u001b[0mpullback\u001b[0m\u001b[0;34m)\u001b[0m\u001b[0;34m(\u001b[0m\u001b[0m_std_basis\u001b[0m\u001b[0;34m(\u001b[0m\u001b[0my\u001b[0m\u001b[0;34m)\u001b[0m\u001b[0;34m)\u001b[0m\u001b[0;34m\u001b[0m\u001b[0;34m\u001b[0m\u001b[0m\n\u001b[1;32m    972\u001b[0m     \u001b[0mjac\u001b[0m \u001b[0;34m=\u001b[0m \u001b[0mjac\u001b[0m\u001b[0;34m[\u001b[0m\u001b[0;36m0\u001b[0m\u001b[0;34m]\u001b[0m \u001b[0;32mif\u001b[0m \u001b[0misinstance\u001b[0m\u001b[0;34m(\u001b[0m\u001b[0margnums\u001b[0m\u001b[0;34m,\u001b[0m \u001b[0mint\u001b[0m\u001b[0;34m)\u001b[0m \u001b[0;32melse\u001b[0m \u001b[0mjac\u001b[0m\u001b[0;34m\u001b[0m\u001b[0;34m\u001b[0m\u001b[0m\n",
      "\u001b[0;32m~/.local/share/virtualenvs/filter_design_2021-9KhhNNV_/lib/python3.9/site-packages/jax/tree_util.py\u001b[0m in \u001b[0;36mtree_map\u001b[0;34m(f, tree)\u001b[0m\n\u001b[1;32m    181\u001b[0m   \"\"\"\n\u001b[1;32m    182\u001b[0m   \u001b[0mleaves\u001b[0m\u001b[0;34m,\u001b[0m \u001b[0mtreedef\u001b[0m \u001b[0;34m=\u001b[0m \u001b[0mpytree\u001b[0m\u001b[0;34m.\u001b[0m\u001b[0mflatten\u001b[0m\u001b[0;34m(\u001b[0m\u001b[0mtree\u001b[0m\u001b[0;34m)\u001b[0m\u001b[0;34m\u001b[0m\u001b[0;34m\u001b[0m\u001b[0m\n\u001b[0;32m--> 183\u001b[0;31m   \u001b[0;32mreturn\u001b[0m \u001b[0mtreedef\u001b[0m\u001b[0;34m.\u001b[0m\u001b[0munflatten\u001b[0m\u001b[0;34m(\u001b[0m\u001b[0mmap\u001b[0m\u001b[0;34m(\u001b[0m\u001b[0mf\u001b[0m\u001b[0;34m,\u001b[0m \u001b[0mleaves\u001b[0m\u001b[0;34m)\u001b[0m\u001b[0;34m)\u001b[0m\u001b[0;34m\u001b[0m\u001b[0;34m\u001b[0m\u001b[0m\n\u001b[0m\u001b[1;32m    184\u001b[0m \u001b[0;34m\u001b[0m\u001b[0m\n\u001b[1;32m    185\u001b[0m \u001b[0;32mdef\u001b[0m \u001b[0mtree_multimap\u001b[0m\u001b[0;34m(\u001b[0m\u001b[0mf\u001b[0m\u001b[0;34m:\u001b[0m \u001b[0mCallable\u001b[0m\u001b[0;34m[\u001b[0m\u001b[0;34m...\u001b[0m\u001b[0;34m,\u001b[0m \u001b[0mAny\u001b[0m\u001b[0;34m]\u001b[0m\u001b[0;34m,\u001b[0m \u001b[0mtree\u001b[0m\u001b[0;34m:\u001b[0m \u001b[0mAny\u001b[0m\u001b[0;34m,\u001b[0m \u001b[0;34m*\u001b[0m\u001b[0mrest\u001b[0m\u001b[0;34m:\u001b[0m \u001b[0mAny\u001b[0m\u001b[0;34m)\u001b[0m \u001b[0;34m->\u001b[0m \u001b[0mAny\u001b[0m\u001b[0;34m:\u001b[0m\u001b[0;34m\u001b[0m\u001b[0;34m\u001b[0m\u001b[0m\n",
      "\u001b[0;32m~/.local/share/virtualenvs/filter_design_2021-9KhhNNV_/lib/python3.9/site-packages/jax/api.py\u001b[0m in \u001b[0;36m_check_output_dtype_revderiv\u001b[0;34m(name, holomorphic, x)\u001b[0m\n\u001b[1;32m    856\u001b[0m                       f\"but got {aval.dtype.name}.\")\n\u001b[1;32m    857\u001b[0m   \u001b[0;32melif\u001b[0m \u001b[0;32mnot\u001b[0m \u001b[0mdtypes\u001b[0m\u001b[0;34m.\u001b[0m\u001b[0missubdtype\u001b[0m\u001b[0;34m(\u001b[0m\u001b[0maval\u001b[0m\u001b[0;34m.\u001b[0m\u001b[0mdtype\u001b[0m\u001b[0;34m,\u001b[0m \u001b[0mnp\u001b[0m\u001b[0;34m.\u001b[0m\u001b[0mfloating\u001b[0m\u001b[0;34m)\u001b[0m\u001b[0;34m:\u001b[0m\u001b[0;34m\u001b[0m\u001b[0;34m\u001b[0m\u001b[0m\n\u001b[0;32m--> 858\u001b[0;31m     raise TypeError(f\"{name} requires real-valued outputs (output dtype that is \"\n\u001b[0m\u001b[1;32m    859\u001b[0m                     \u001b[0;34mf\"a sub-dtype of np.floating), but got {aval.dtype.name}. \"\u001b[0m\u001b[0;34m\u001b[0m\u001b[0;34m\u001b[0m\u001b[0m\n\u001b[1;32m    860\u001b[0m                     \u001b[0;34m\"For holomorphic differentiation, pass holomorphic=True. \"\u001b[0m\u001b[0;34m\u001b[0m\u001b[0;34m\u001b[0m\u001b[0m\n",
      "\u001b[0;31mTypeError\u001b[0m: jacrev requires real-valued outputs (output dtype that is a sub-dtype of np.floating), but got complex64. For holomorphic differentiation, pass holomorphic=True. For differentiation of non-holomorphic functions involving complex outputs, or function with integer outputs, use jax.vjp directly."
     ]
    }
   ],
   "source": [
    "gradients.H_gradient(x, w)"
   ]
  },
  {
   "cell_type": "code",
   "execution_count": null,
   "id": "promising-current",
   "metadata": {},
   "outputs": [],
   "source": []
  }
 ],
 "metadata": {
  "kernelspec": {
   "display_name": "Python 3",
   "language": "python",
   "name": "python3"
  },
  "language_info": {
   "codemirror_mode": {
    "name": "ipython",
    "version": 3
   },
   "file_extension": ".py",
   "mimetype": "text/x-python",
   "name": "python",
   "nbconvert_exporter": "python",
   "pygments_lexer": "ipython3",
   "version": "3.9.0"
  }
 },
 "nbformat": 4,
 "nbformat_minor": 5
}
