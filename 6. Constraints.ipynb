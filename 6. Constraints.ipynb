{
 "cells": [
  {
   "cell_type": "code",
   "execution_count": 1,
   "id": "handed-knitting",
   "metadata": {},
   "outputs": [],
   "source": [
    "from scipy import signal\n",
    "import numpy as np\n",
    "import matplotlib.pyplot as plt\n",
    "\n",
    "\n",
    "plt.rcParams['figure.figsize'] = (20, 8)\n",
    "plt.rcParams['axes.grid'] = True\n",
    "                                  \n",
    "                                  \n",
    "from dsp import simplify_biquad_filters\n",
    "import dsp"
   ]
  },
  {
   "cell_type": "markdown",
   "id": "obvious-preliminary",
   "metadata": {},
   "source": [
    "# Stability Constraints\n",
    "$$ b_{0j} \\le 1 - \\gamma $$\n",
    "$$ b_{1j} - b_{0j} \\le 1 - \\gamma $$\n",
    "$$ - b_{1j} \\le 1 - \\gamma $$\n",
    "\n",
    "With \n",
    "\n",
    "$$ \\gamma = 1 - (1 - \\epsilon_s)^2 $$\n",
    "\n",
    "\n",
    "$$ \\mathbf{B}\\delta \\lt \\mathbf{b}^{(k)} $$"
   ]
  },
  {
   "cell_type": "code",
   "execution_count": null,
   "id": "major-credit",
   "metadata": {},
   "outputs": [],
   "source": [
    "def stability_constraints(c, r_max):\n",
    "    \"\"\" Returns the stability constraints matrix B and colum nvector b\n",
    "    so that\n",
    "\n",
    "        B*delta < b\n",
    "    \n",
    "    in which delta is a optimization variable that updates the filter \n",
    "    coefficients.\n",
    "\n",
    "    Assumed is that delta corresponds to \n",
    "    [a10, a11, a12, b10, b11, a20, a21 ... bJ1]\n",
    "\n",
    "    coeffs: ndarray\n",
    "        filter coefficients\n",
    "    r_max : scalar\n",
    "        the maximum pole radius, which helps establish a stability \n",
    "        margin.\n",
    "\n",
    "    returns B, b\n",
    "    =======\n",
    "\n",
    "    B : matrix\n",
    "    b : column vector\n",
    "    \"\"\"\n",
    "    epsilon_s = 1 - r_max\n",
    "    b = []\n",
    "    J = len(c) // 4 # number of filter stages\n",
    "    for i in range(0, J*4, 4):\n",
    "        a0, a1, b0, b1 = c[i:i+4]\n",
    "        b_ = np.c_[(1-epsilon_s)-b0, \n",
    "                (1-epsilon_s)-b1+b0, \n",
    "                (1-epsilon_s)+b1+b0].T\n",
    "        b.append(b_)\n",
    "    b = np.vstack(b)\n",
    "\n",
    "    J = len(coeffs)\n",
    "    B = np.zeros((J*3,J*5))\n",
    "    beta = np.mat('[1 0;-1 1;-1 -1]')\n",
    "\n",
    "    for i in range(J):\n",
    "        x = 3+i*5\n",
    "        y = i*3\n",
    "        B[y:y+3, x:x+2] = beta\n",
    "    B = np.matrix(B)\n",
    "    return B, b"
   ]
  }
 ],
 "metadata": {
  "kernelspec": {
   "display_name": "Python 3",
   "language": "python",
   "name": "python3"
  },
  "language_info": {
   "codemirror_mode": {
    "name": "ipython",
    "version": 3
   },
   "file_extension": ".py",
   "mimetype": "text/x-python",
   "name": "python",
   "nbconvert_exporter": "python",
   "pygments_lexer": "ipython3",
   "version": "3.9.0"
  }
 },
 "nbformat": 4,
 "nbformat_minor": 5
}
